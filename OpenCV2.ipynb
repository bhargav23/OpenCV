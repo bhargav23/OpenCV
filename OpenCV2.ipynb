{
  "nbformat": 4,
  "nbformat_minor": 0,
  "metadata": {
    "colab": {
      "name": "OpenCV2.ipynb",
      "provenance": [],
      "collapsed_sections": [],
      "authorship_tag": "ABX9TyNZzDPaPosuBZ4JLovWkskn",
      "include_colab_link": true
    },
    "kernelspec": {
      "name": "python3",
      "display_name": "Python 3"
    },
    "language_info": {
      "name": "python"
    }
  },
  "cells": [
    {
      "cell_type": "markdown",
      "metadata": {
        "id": "view-in-github",
        "colab_type": "text"
      },
      "source": [
        "<a href=\"https://colab.research.google.com/github/bhargav23/OpenCV/blob/main/OpenCV2.ipynb\" target=\"_parent\"><img src=\"https://colab.research.google.com/assets/colab-badge.svg\" alt=\"Open In Colab\"/></a>"
      ]
    },
    {
      "cell_type": "code",
      "metadata": {
        "colab": {
          "base_uri": "https://localhost:8080/"
        },
        "id": "lIdQ9K1wa_r_",
        "outputId": "12794920-9c17-4566-d9a8-aab979476b05"
      },
      "source": [
        "from google.colab import drive\n",
        "drive.mount('/content/drive')"
      ],
      "execution_count": null,
      "outputs": [
        {
          "output_type": "stream",
          "text": [
            "Mounted at /content/drive\n"
          ],
          "name": "stdout"
        }
      ]
    },
    {
      "cell_type": "code",
      "metadata": {
        "id": "86x7wZPTadPT"
      },
      "source": [
        "imgpath =  \"/content/drive/MyDrive/Data/AnnotationImages/\""
      ],
      "execution_count": null,
      "outputs": []
    },
    {
      "cell_type": "code",
      "metadata": {
        "id": "CdJJiuqIeXfg"
      },
      "source": [
        "annotationpath = \"/content/drive/MyDrive/Data/csv/\""
      ],
      "execution_count": null,
      "outputs": []
    },
    {
      "cell_type": "code",
      "metadata": {
        "id": "J2E15kBMbLss"
      },
      "source": [
        "import pandas as pd\n",
        "import numpy as np\n",
        "import json\n",
        "import os\n",
        "import cv2\n",
        "from ast import literal_eval\n",
        "import matplotlib\n",
        "import matplotlib.pyplot as plt\n",
        "from zipfile import ZipFile"
      ],
      "execution_count": null,
      "outputs": []
    },
    {
      "cell_type": "code",
      "metadata": {
        "id": "4pMOgCyTgW2O"
      },
      "source": [
        "df1 = pd.read_csv('/content/drive/MyDrive/Data/csv/merged237.csv')"
      ],
      "execution_count": null,
      "outputs": []
    },
    {
      "cell_type": "code",
      "metadata": {
        "colab": {
          "base_uri": "https://localhost:8080/"
        },
        "id": "X44bjh7fR60p",
        "outputId": "9df591f4-8cf3-4d5c-c6a5-fdf8d27318b1"
      },
      "source": [
        "ls"
      ],
      "execution_count": null,
      "outputs": [
        {
          "output_type": "stream",
          "text": [
            "\u001b[0m\u001b[01;34mdrive\u001b[0m/  \u001b[01;34msample_data\u001b[0m/\n"
          ],
          "name": "stdout"
        }
      ]
    },
    {
      "cell_type": "code",
      "metadata": {
        "colab": {
          "base_uri": "https://localhost:8080/"
        },
        "id": "1-XiyTViw7Rr",
        "outputId": "cdd92fb1-1000-43c9-b01a-90c1644149b3"
      },
      "source": [
        "dir_list = os.listdir(annotationpath)\n",
        "for file in dir_list:\n",
        "    print(annotationpath+file)"
      ],
      "execution_count": null,
      "outputs": [
        {
          "output_type": "stream",
          "text": [
            "/content/drive/MyDrive/Data/csv/000001-000100_csv.csv\n",
            "/content/drive/MyDrive/Data/csv/000200-000300_csv.csv\n",
            "/content/drive/MyDrive/Data/csv/000501-000520_csv.csv\n",
            "/content/drive/MyDrive/Data/csv/000401-000500_csv.csv\n",
            "/content/drive/MyDrive/Data/csv/000200-000220_csv.csv\n",
            "/content/drive/MyDrive/Data/csv/merged.csv\n",
            "/content/drive/MyDrive/Data/csv/merged.gsheet\n",
            "/content/drive/MyDrive/Data/csv/merged237.csv\n"
          ],
          "name": "stdout"
        }
      ]
    },
    {
      "cell_type": "code",
      "metadata": {
        "colab": {
          "base_uri": "https://localhost:8080/",
          "height": 394
        },
        "id": "d6W_LaLxp8Ip",
        "outputId": "3e61eb90-ad75-472c-896d-b856be3061f7"
      },
      "source": [
        "df1.head()"
      ],
      "execution_count": null,
      "outputs": [
        {
          "output_type": "execute_result",
          "data": {
            "text/html": [
              "<div>\n",
              "<style scoped>\n",
              "    .dataframe tbody tr th:only-of-type {\n",
              "        vertical-align: middle;\n",
              "    }\n",
              "\n",
              "    .dataframe tbody tr th {\n",
              "        vertical-align: top;\n",
              "    }\n",
              "\n",
              "    .dataframe thead th {\n",
              "        text-align: right;\n",
              "    }\n",
              "</style>\n",
              "<table border=\"1\" class=\"dataframe\">\n",
              "  <thead>\n",
              "    <tr style=\"text-align: right;\">\n",
              "      <th></th>\n",
              "      <th>filename</th>\n",
              "      <th>file_size</th>\n",
              "      <th>file_attributes</th>\n",
              "      <th>region_count</th>\n",
              "      <th>region_id</th>\n",
              "      <th>region_shape_attributes</th>\n",
              "      <th>region_attributes</th>\n",
              "    </tr>\n",
              "  </thead>\n",
              "  <tbody>\n",
              "    <tr>\n",
              "      <th>0</th>\n",
              "      <td>image000001.jpg</td>\n",
              "      <td>11432</td>\n",
              "      <td>{}</td>\n",
              "      <td>1</td>\n",
              "      <td>0</td>\n",
              "      <td>{\"name\":\"rect\",\"x\":1,\"y\":34,\"width\":219,\"heigh...</td>\n",
              "      <td>{\"Entity\":\"Bus\",\"Door Location\":\"NA\",\"Vehicle ...</td>\n",
              "    </tr>\n",
              "    <tr>\n",
              "      <th>1</th>\n",
              "      <td>image000002.jpg</td>\n",
              "      <td>72688</td>\n",
              "      <td>{}</td>\n",
              "      <td>1</td>\n",
              "      <td>0</td>\n",
              "      <td>{\"name\":\"rect\",\"x\":373,\"y\":263,\"width\":104,\"he...</td>\n",
              "      <td>{\"Entity\":\"Bus\",\"Door Location\":\"NA\",\"Vehicle ...</td>\n",
              "    </tr>\n",
              "    <tr>\n",
              "      <th>2</th>\n",
              "      <td>image000003.jpg</td>\n",
              "      <td>82261</td>\n",
              "      <td>{}</td>\n",
              "      <td>3</td>\n",
              "      <td>0</td>\n",
              "      <td>{\"name\":\"rect\",\"x\":74,\"y\":52,\"width\":618,\"heig...</td>\n",
              "      <td>{\"Entity\":\"Bus\",\"Door Location\":\"NA\",\"Vehicle ...</td>\n",
              "    </tr>\n",
              "    <tr>\n",
              "      <th>3</th>\n",
              "      <td>image000003.jpg</td>\n",
              "      <td>82261</td>\n",
              "      <td>{}</td>\n",
              "      <td>3</td>\n",
              "      <td>1</td>\n",
              "      <td>{\"name\":\"rect\",\"x\":465,\"y\":151,\"width\":36,\"hei...</td>\n",
              "      <td>{\"Entity\":\"Door\",\"Door Location\":\"Front Door\",...</td>\n",
              "    </tr>\n",
              "    <tr>\n",
              "      <th>4</th>\n",
              "      <td>image000003.jpg</td>\n",
              "      <td>82261</td>\n",
              "      <td>{}</td>\n",
              "      <td>3</td>\n",
              "      <td>2</td>\n",
              "      <td>{\"name\":\"rect\",\"x\":638,\"y\":180,\"width\":14,\"hei...</td>\n",
              "      <td>{\"Entity\":\"Door\",\"Door Location\":\"Rear Door\",\"...</td>\n",
              "    </tr>\n",
              "  </tbody>\n",
              "</table>\n",
              "</div>"
            ],
            "text/plain": [
              "          filename  ...                                  region_attributes\n",
              "0  image000001.jpg  ...  {\"Entity\":\"Bus\",\"Door Location\":\"NA\",\"Vehicle ...\n",
              "1  image000002.jpg  ...  {\"Entity\":\"Bus\",\"Door Location\":\"NA\",\"Vehicle ...\n",
              "2  image000003.jpg  ...  {\"Entity\":\"Bus\",\"Door Location\":\"NA\",\"Vehicle ...\n",
              "3  image000003.jpg  ...  {\"Entity\":\"Door\",\"Door Location\":\"Front Door\",...\n",
              "4  image000003.jpg  ...  {\"Entity\":\"Door\",\"Door Location\":\"Rear Door\",\"...\n",
              "\n",
              "[5 rows x 7 columns]"
            ]
          },
          "metadata": {
            "tags": []
          },
          "execution_count": 8
        }
      ]
    },
    {
      "cell_type": "code",
      "metadata": {
        "id": "VMZoGskexCql"
      },
      "source": [
        "df1['region_shape_attributes'] = df1.region_shape_attributes.apply(eval)"
      ],
      "execution_count": null,
      "outputs": []
    },
    {
      "cell_type": "code",
      "metadata": {
        "id": "Mh13jTMd1-FK"
      },
      "source": [
        "df1['region_attributes'] = df1.region_attributes.apply(eval)"
      ],
      "execution_count": null,
      "outputs": []
    },
    {
      "cell_type": "code",
      "metadata": {
        "colab": {
          "base_uri": "https://localhost:8080/"
        },
        "id": "3Ud9b8sDzndO",
        "outputId": "5abf4149-eec1-41d9-dea9-e158648a40e1"
      },
      "source": [
        "df1.region_shape_attributes.apply(dict)\n",
        "df1.region_attributes.apply(dict)"
      ],
      "execution_count": null,
      "outputs": [
        {
          "output_type": "execute_result",
          "data": {
            "text/plain": [
              "0       {'Entity': 'Bus', 'Door Location': 'NA', 'Vehi...\n",
              "1       {'Entity': 'Bus', 'Door Location': 'NA', 'Vehi...\n",
              "2       {'Entity': 'Bus', 'Door Location': 'NA', 'Vehi...\n",
              "3       {'Entity': 'Door', 'Door Location': 'Front Doo...\n",
              "4       {'Entity': 'Door', 'Door Location': 'Rear Door...\n",
              "                              ...                        \n",
              "1994    {'Entity': 'Door', 'Door Location': 'Front Doo...\n",
              "1995    {'Entity': 'Bus', 'Door Location': 'NA', 'Vehi...\n",
              "1996    {'Entity': 'Door', 'Door Location': 'Rear Door...\n",
              "1997    {'Entity': 'Bus', 'Door Location': 'NA', 'Vehi...\n",
              "1998    {'Entity': 'Route', 'Door Location': 'NA', 'Ve...\n",
              "Name: region_attributes, Length: 1999, dtype: object"
            ]
          },
          "metadata": {
            "tags": []
          },
          "execution_count": 11
        }
      ]
    },
    {
      "cell_type": "code",
      "metadata": {
        "id": "CtPHt7vL0qo1"
      },
      "source": [
        "#df1 = pd.concat([df1.drop(['region_shape_attributes'], axis=1), df1['region_shape_attributes'].apply(pd.Series)], axis=1)\n",
        "#df1 = pd.concat([df1.drop(['region_attributes'], axis=1), df1['region_attributes'].apply(pd.Series)], axis=1)"
      ],
      "execution_count": null,
      "outputs": []
    },
    {
      "cell_type": "code",
      "metadata": {
        "colab": {
          "base_uri": "https://localhost:8080/",
          "height": 394
        },
        "id": "6YDs8ueyk1Nf",
        "outputId": "30e947bd-a631-4b13-b215-dc3d6229d791"
      },
      "source": [
        "df1.head()"
      ],
      "execution_count": null,
      "outputs": [
        {
          "output_type": "execute_result",
          "data": {
            "text/html": [
              "<div>\n",
              "<style scoped>\n",
              "    .dataframe tbody tr th:only-of-type {\n",
              "        vertical-align: middle;\n",
              "    }\n",
              "\n",
              "    .dataframe tbody tr th {\n",
              "        vertical-align: top;\n",
              "    }\n",
              "\n",
              "    .dataframe thead th {\n",
              "        text-align: right;\n",
              "    }\n",
              "</style>\n",
              "<table border=\"1\" class=\"dataframe\">\n",
              "  <thead>\n",
              "    <tr style=\"text-align: right;\">\n",
              "      <th></th>\n",
              "      <th>filename</th>\n",
              "      <th>file_size</th>\n",
              "      <th>file_attributes</th>\n",
              "      <th>region_count</th>\n",
              "      <th>region_id</th>\n",
              "      <th>region_shape_attributes</th>\n",
              "      <th>region_attributes</th>\n",
              "    </tr>\n",
              "  </thead>\n",
              "  <tbody>\n",
              "    <tr>\n",
              "      <th>0</th>\n",
              "      <td>image000001.jpg</td>\n",
              "      <td>11432</td>\n",
              "      <td>{}</td>\n",
              "      <td>1</td>\n",
              "      <td>0</td>\n",
              "      <td>{'name': 'rect', 'x': 1, 'y': 34, 'width': 219...</td>\n",
              "      <td>{'Entity': 'Bus', 'Door Location': 'NA', 'Vehi...</td>\n",
              "    </tr>\n",
              "    <tr>\n",
              "      <th>1</th>\n",
              "      <td>image000002.jpg</td>\n",
              "      <td>72688</td>\n",
              "      <td>{}</td>\n",
              "      <td>1</td>\n",
              "      <td>0</td>\n",
              "      <td>{'name': 'rect', 'x': 373, 'y': 263, 'width': ...</td>\n",
              "      <td>{'Entity': 'Bus', 'Door Location': 'NA', 'Vehi...</td>\n",
              "    </tr>\n",
              "    <tr>\n",
              "      <th>2</th>\n",
              "      <td>image000003.jpg</td>\n",
              "      <td>82261</td>\n",
              "      <td>{}</td>\n",
              "      <td>3</td>\n",
              "      <td>0</td>\n",
              "      <td>{'name': 'rect', 'x': 74, 'y': 52, 'width': 61...</td>\n",
              "      <td>{'Entity': 'Bus', 'Door Location': 'NA', 'Vehi...</td>\n",
              "    </tr>\n",
              "    <tr>\n",
              "      <th>3</th>\n",
              "      <td>image000003.jpg</td>\n",
              "      <td>82261</td>\n",
              "      <td>{}</td>\n",
              "      <td>3</td>\n",
              "      <td>1</td>\n",
              "      <td>{'name': 'rect', 'x': 465, 'y': 151, 'width': ...</td>\n",
              "      <td>{'Entity': 'Door', 'Door Location': 'Front Doo...</td>\n",
              "    </tr>\n",
              "    <tr>\n",
              "      <th>4</th>\n",
              "      <td>image000003.jpg</td>\n",
              "      <td>82261</td>\n",
              "      <td>{}</td>\n",
              "      <td>3</td>\n",
              "      <td>2</td>\n",
              "      <td>{'name': 'rect', 'x': 638, 'y': 180, 'width': ...</td>\n",
              "      <td>{'Entity': 'Door', 'Door Location': 'Rear Door...</td>\n",
              "    </tr>\n",
              "  </tbody>\n",
              "</table>\n",
              "</div>"
            ],
            "text/plain": [
              "          filename  ...                                  region_attributes\n",
              "0  image000001.jpg  ...  {'Entity': 'Bus', 'Door Location': 'NA', 'Vehi...\n",
              "1  image000002.jpg  ...  {'Entity': 'Bus', 'Door Location': 'NA', 'Vehi...\n",
              "2  image000003.jpg  ...  {'Entity': 'Bus', 'Door Location': 'NA', 'Vehi...\n",
              "3  image000003.jpg  ...  {'Entity': 'Door', 'Door Location': 'Front Doo...\n",
              "4  image000003.jpg  ...  {'Entity': 'Door', 'Door Location': 'Rear Door...\n",
              "\n",
              "[5 rows x 7 columns]"
            ]
          },
          "metadata": {
            "tags": []
          },
          "execution_count": 12
        }
      ]
    },
    {
      "cell_type": "code",
      "metadata": {
        "id": "SOHspOuyCjSi"
      },
      "source": [
        "def get_img_shape(im):\n",
        "  img = cv2.imread(imgpath+im)\n",
        "  return list(img.shape)"
      ],
      "execution_count": null,
      "outputs": []
    },
    {
      "cell_type": "code",
      "metadata": {
        "colab": {
          "base_uri": "https://localhost:8080/"
        },
        "id": "1Hhxrc1hLHZz",
        "outputId": "c00af1c5-376e-411f-d9f9-c5f601533c36"
      },
      "source": [
        "get_img_shape('file104.jpg') \n",
        "#Returns [Height,Width,channels]"
      ],
      "execution_count": null,
      "outputs": [
        {
          "output_type": "execute_result",
          "data": {
            "text/plain": [
              "[266, 474, 3]"
            ]
          },
          "metadata": {
            "tags": []
          },
          "execution_count": 28
        }
      ]
    },
    {
      "cell_type": "code",
      "metadata": {
        "id": "P1WmcgXln_2q"
      },
      "source": [
        "#df1['imgsize'] = df1['filename'].apply(get_img_shape)"
      ],
      "execution_count": null,
      "outputs": []
    },
    {
      "cell_type": "code",
      "metadata": {
        "colab": {
          "base_uri": "https://localhost:8080/",
          "height": 394
        },
        "id": "VYNvw32Bq_J6",
        "outputId": "80656078-5545-41da-e0cf-90d634af59a9"
      },
      "source": [
        "df1.head()"
      ],
      "execution_count": null,
      "outputs": [
        {
          "output_type": "execute_result",
          "data": {
            "text/html": [
              "<div>\n",
              "<style scoped>\n",
              "    .dataframe tbody tr th:only-of-type {\n",
              "        vertical-align: middle;\n",
              "    }\n",
              "\n",
              "    .dataframe tbody tr th {\n",
              "        vertical-align: top;\n",
              "    }\n",
              "\n",
              "    .dataframe thead th {\n",
              "        text-align: right;\n",
              "    }\n",
              "</style>\n",
              "<table border=\"1\" class=\"dataframe\">\n",
              "  <thead>\n",
              "    <tr style=\"text-align: right;\">\n",
              "      <th></th>\n",
              "      <th>filename</th>\n",
              "      <th>file_size</th>\n",
              "      <th>file_attributes</th>\n",
              "      <th>region_count</th>\n",
              "      <th>region_id</th>\n",
              "      <th>region_shape_attributes</th>\n",
              "      <th>region_attributes</th>\n",
              "    </tr>\n",
              "  </thead>\n",
              "  <tbody>\n",
              "    <tr>\n",
              "      <th>0</th>\n",
              "      <td>image000001.jpg</td>\n",
              "      <td>11432</td>\n",
              "      <td>{}</td>\n",
              "      <td>1</td>\n",
              "      <td>0</td>\n",
              "      <td>{'name': 'rect', 'x': 1, 'y': 34, 'width': 219...</td>\n",
              "      <td>{'Entity': 'Bus', 'Door Location': 'NA', 'Vehi...</td>\n",
              "    </tr>\n",
              "    <tr>\n",
              "      <th>1</th>\n",
              "      <td>image000002.jpg</td>\n",
              "      <td>72688</td>\n",
              "      <td>{}</td>\n",
              "      <td>1</td>\n",
              "      <td>0</td>\n",
              "      <td>{'name': 'rect', 'x': 373, 'y': 263, 'width': ...</td>\n",
              "      <td>{'Entity': 'Bus', 'Door Location': 'NA', 'Vehi...</td>\n",
              "    </tr>\n",
              "    <tr>\n",
              "      <th>2</th>\n",
              "      <td>image000003.jpg</td>\n",
              "      <td>82261</td>\n",
              "      <td>{}</td>\n",
              "      <td>3</td>\n",
              "      <td>0</td>\n",
              "      <td>{'name': 'rect', 'x': 74, 'y': 52, 'width': 61...</td>\n",
              "      <td>{'Entity': 'Bus', 'Door Location': 'NA', 'Vehi...</td>\n",
              "    </tr>\n",
              "    <tr>\n",
              "      <th>3</th>\n",
              "      <td>image000003.jpg</td>\n",
              "      <td>82261</td>\n",
              "      <td>{}</td>\n",
              "      <td>3</td>\n",
              "      <td>1</td>\n",
              "      <td>{'name': 'rect', 'x': 465, 'y': 151, 'width': ...</td>\n",
              "      <td>{'Entity': 'Door', 'Door Location': 'Front Doo...</td>\n",
              "    </tr>\n",
              "    <tr>\n",
              "      <th>4</th>\n",
              "      <td>image000003.jpg</td>\n",
              "      <td>82261</td>\n",
              "      <td>{}</td>\n",
              "      <td>3</td>\n",
              "      <td>2</td>\n",
              "      <td>{'name': 'rect', 'x': 638, 'y': 180, 'width': ...</td>\n",
              "      <td>{'Entity': 'Door', 'Door Location': 'Rear Door...</td>\n",
              "    </tr>\n",
              "  </tbody>\n",
              "</table>\n",
              "</div>"
            ],
            "text/plain": [
              "          filename  ...                                  region_attributes\n",
              "0  image000001.jpg  ...  {'Entity': 'Bus', 'Door Location': 'NA', 'Vehi...\n",
              "1  image000002.jpg  ...  {'Entity': 'Bus', 'Door Location': 'NA', 'Vehi...\n",
              "2  image000003.jpg  ...  {'Entity': 'Bus', 'Door Location': 'NA', 'Vehi...\n",
              "3  image000003.jpg  ...  {'Entity': 'Door', 'Door Location': 'Front Doo...\n",
              "4  image000003.jpg  ...  {'Entity': 'Door', 'Door Location': 'Rear Door...\n",
              "\n",
              "[5 rows x 7 columns]"
            ]
          },
          "metadata": {
            "tags": []
          },
          "execution_count": 15
        }
      ]
    },
    {
      "cell_type": "code",
      "metadata": {
        "id": "d6jOm-_xA70D"
      },
      "source": [
        "classes = ['busfront','busrear','busside','frontdoor','reardoor','busroute']"
      ],
      "execution_count": null,
      "outputs": []
    },
    {
      "cell_type": "code",
      "metadata": {
        "id": "fWxAc2edJ46t"
      },
      "source": [
        "def convert_annotation(annot,size):\n",
        "  box = np.array([annot['x'], annot['y'], annot['width'], annot['height']],\n",
        "                                                dtype=np.float32).ravel()\n",
        "  box[[0, 2]] /= size[1]  # normalize x by width\n",
        "  box[[1, 3]] /= size[0]  # normalize y by height\n",
        "  box = [box[0] + box[2] / 2, box[1] + box[3] / 2, box[2],\n",
        "          box[3]]  # xywh (left-top to center x-y)\n",
        "  return box"
      ],
      "execution_count": null,
      "outputs": []
    },
    {
      "cell_type": "code",
      "metadata": {
        "colab": {
          "base_uri": "https://localhost:8080/"
        },
        "id": "cf0sf-S4khas",
        "outputId": "cd0a4799-fe58-46cb-df2a-1b520d6cd2e6"
      },
      "source": [
        "classes"
      ],
      "execution_count": null,
      "outputs": [
        {
          "output_type": "execute_result",
          "data": {
            "text/plain": [
              "['busfront', 'busrear', 'busside', 'frontdoor', 'reardoor', 'busroute']"
            ]
          },
          "metadata": {
            "tags": []
          },
          "execution_count": 18
        }
      ]
    },
    {
      "cell_type": "code",
      "metadata": {
        "colab": {
          "base_uri": "https://localhost:8080/"
        },
        "id": "Uru1_r8b9bxs",
        "outputId": "f452336a-a9c8-4196-815f-971be390b3b3"
      },
      "source": [
        "cd /content/drive/MyDrive/Data/temp/annotations"
      ],
      "execution_count": null,
      "outputs": [
        {
          "output_type": "stream",
          "text": [
            "/content/drive/.shortcut-targets-by-id/1cvx03MF6sl6kQ1ZVtu4SLyCyNCfsSnxC/Data/temp/annotations\n"
          ],
          "name": "stdout"
        }
      ]
    },
    {
      "cell_type": "code",
      "metadata": {
        "id": "OlN9xtNVEEMW"
      },
      "source": [
        "for count, filename in enumerate(os.listdir(imgpath)):\n",
        "  rows = df1[df1['filename']==filename]\n",
        "  for index, row in rows.iterrows():\n",
        "    size = get_img_shape(row['filename'])\n",
        "    if row['region_count'] == 0:\n",
        "      continue\n",
        "    bbox = convert_annotation(row['region_shape_attributes'],size)\n",
        "    region = row['region_attributes']\n",
        "    for cat in region.values(): \n",
        "      if cat=='Front Pose':\n",
        "        category_id = 0\n",
        "      elif cat=='Rear Pose':\n",
        "        category_id = 1\n",
        "      elif cat=='Side Pose':\n",
        "        category_id = 2\n",
        "      elif cat=='Front Door':\n",
        "        category_id = 3 \n",
        "      elif cat=='Rear Door':\n",
        "        category_id = 4\n",
        "      elif cat=='Rear Door':\n",
        "        category_id = 5    \n",
        "    with open(row['filename'].split('.')[0] + '.txt', 'a') as file:\n",
        "      file.write('%g %.6f %.6f %.6f %.6f\\n' % (category_id, bbox[0],bbox[1],bbox[2],bbox[3]))"
      ],
      "execution_count": null,
      "outputs": []
    },
    {
      "cell_type": "code",
      "metadata": {
        "id": "0302cwQYoFSk"
      },
      "source": [
        "annotspath = '/content/drive/MyDrive/Data/temp/annotations/'\n",
        "dir_list = os.listdir()\n",
        "with ZipFile('annotations.zip', 'w') as zipObj:\n",
        "  for file in dir_list:\n",
        "    zipObj.write(file)"
      ],
      "execution_count": 62,
      "outputs": []
    },
    {
      "cell_type": "code",
      "metadata": {
        "id": "QxV9AG4zphxi"
      },
      "source": [
        ""
      ],
      "execution_count": null,
      "outputs": []
    }
  ]
}