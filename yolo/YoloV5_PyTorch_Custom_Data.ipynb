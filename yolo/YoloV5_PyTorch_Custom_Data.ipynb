{
  "nbformat": 4,
  "nbformat_minor": 0,
  "metadata": {
    "colab": {
      "name": "Copy of YoloV5_PyTorch.ipynb",
      "provenance": [],
      "include_colab_link": true
    },
    "kernelspec": {
      "name": "python3",
      "display_name": "Python 3"
    },
    "language_info": {
      "name": "python"
    }
  },
  "cells": [
    {
      "cell_type": "markdown",
      "metadata": {
        "id": "view-in-github",
        "colab_type": "text"
      },
      "source": [
        "<a href=\"https://colab.research.google.com/github/bhargav23/OpenCV/blob/main/yolo/YoloV5_PyTorch_Custom_Data.ipynb\" target=\"_parent\"><img src=\"https://colab.research.google.com/assets/colab-badge.svg\" alt=\"Open In Colab\"/></a>"
      ]
    },
    {
      "cell_type": "code",
      "metadata": {
        "colab": {
          "base_uri": "https://localhost:8080/"
        },
        "id": "TSKVPDNleihl",
        "outputId": "74673def-6325-43e3-aa5f-ea765d41fd6b"
      },
      "source": [
        "from google.colab import drive\n",
        "drive.mount('/content/drive')"
      ],
      "execution_count": 1,
      "outputs": [
        {
          "output_type": "stream",
          "text": [
            "Mounted at /content/drive\n"
          ],
          "name": "stdout"
        }
      ]
    },
    {
      "cell_type": "code",
      "metadata": {
        "id": "cLOwuTuBewqM"
      },
      "source": [
        "imgpath =  \"/content/drive/MyDrive/Data/AnnotationImages/\"\n",
        "annotationpath = \"/content/annot/\""
      ],
      "execution_count": 2,
      "outputs": []
    },
    {
      "cell_type": "code",
      "metadata": {
        "colab": {
          "base_uri": "https://localhost:8080/"
        },
        "id": "GylQJkEFFXPL",
        "outputId": "8ec0b964-0c55-4a79-cf01-7ac5b79fbd59"
      },
      "source": [
        "!pip install tqdm"
      ],
      "execution_count": 3,
      "outputs": [
        {
          "output_type": "stream",
          "text": [
            "Requirement already satisfied: tqdm in /usr/local/lib/python3.7/dist-packages (4.41.1)\n"
          ],
          "name": "stdout"
        }
      ]
    },
    {
      "cell_type": "code",
      "metadata": {
        "id": "TQMsLa-DFuuU"
      },
      "source": [
        "import pandas as pd \n",
        "import os \n",
        "from sklearn.model_selection import train_test_split\n",
        "from tqdm import tqdm\n"
      ],
      "execution_count": 4,
      "outputs": []
    },
    {
      "cell_type": "code",
      "metadata": {
        "id": "TsGzvYAqDB0b"
      },
      "source": [
        "%mkdir annot"
      ],
      "execution_count": 5,
      "outputs": []
    },
    {
      "cell_type": "code",
      "metadata": {
        "id": "VZvfggl4Di-D"
      },
      "source": [
        "%cp /content/drive/MyDrive/Data/temp/annotations/annotations.zip ./annot"
      ],
      "execution_count": 6,
      "outputs": []
    },
    {
      "cell_type": "code",
      "metadata": {
        "colab": {
          "base_uri": "https://localhost:8080/"
        },
        "id": "FUwxLCbjD6y0",
        "outputId": "c11e6412-ec5f-4128-896a-e78470c287f5"
      },
      "source": [
        "cd annot/"
      ],
      "execution_count": 7,
      "outputs": [
        {
          "output_type": "stream",
          "text": [
            "/content/annot\n"
          ],
          "name": "stdout"
        }
      ]
    },
    {
      "cell_type": "code",
      "metadata": {
        "id": "3d0bMlmrCy7T"
      },
      "source": [
        "!unzip annotations.zip "
      ],
      "execution_count": null,
      "outputs": []
    },
    {
      "cell_type": "code",
      "metadata": {
        "id": "DoHjlj9KEBx7"
      },
      "source": [
        "%rm annotations.zip "
      ],
      "execution_count": 9,
      "outputs": []
    },
    {
      "cell_type": "code",
      "metadata": {
        "colab": {
          "base_uri": "https://localhost:8080/",
          "height": 35
        },
        "id": "dVryB-0HGLF8",
        "outputId": "ddd5b93d-4f99-414a-c030-272caa033da0"
      },
      "source": [
        "pwd"
      ],
      "execution_count": 10,
      "outputs": [
        {
          "output_type": "execute_result",
          "data": {
            "application/vnd.google.colaboratory.intrinsic+json": {
              "type": "string"
            },
            "text/plain": [
              "'/content/annot'"
            ]
          },
          "metadata": {
            "tags": []
          },
          "execution_count": 10
        }
      ]
    },
    {
      "cell_type": "code",
      "metadata": {
        "colab": {
          "base_uri": "https://localhost:8080/"
        },
        "id": "OinQyofmLLwD",
        "outputId": "17713a4e-a767-4ece-f13d-9c0775203f85"
      },
      "source": [
        "cd /content"
      ],
      "execution_count": 11,
      "outputs": [
        {
          "output_type": "stream",
          "text": [
            "/content\n"
          ],
          "name": "stdout"
        }
      ]
    },
    {
      "cell_type": "code",
      "metadata": {
        "id": "cJKZ8OrGgpoD"
      },
      "source": [
        "def split_img_label(data_train,data_test,imgpath,annotationpath):\n",
        "    \n",
        "  os.mkdir('train')\n",
        "  os.mkdir('valid')\n",
        "  os.mkdir('train/images')\n",
        "  os.mkdir('valid/images')\n",
        "  os.mkdir('train/labels')\n",
        "  os.mkdir('valid/labels')\n",
        "  train_images ='./train/images/'\n",
        "  train_labels = './train/labels/'\n",
        "  test_images = './valid/images/'\n",
        "  test_labels= './valid/labels/'\n",
        "    \n",
        "    # Train folder\n",
        "  for index, row in data_train.iterrows():\n",
        "    os.system('cp ' + imgpath+row[0] +' '+train_images+row[0])\n",
        "    os.system('cp ' + annotationpath+row[1] +' '+ train_labels+row[1]) \n",
        "  \n",
        "  # Test folder\n",
        "  for index, row in data_test.iterrows():\n",
        "    os.system('cp ' + imgpath+row[0] +' '+test_images+row[0])\n",
        "    os.system('cp ' + annotationpath+row[1] +' '+ test_labels+row[1])"
      ],
      "execution_count": 12,
      "outputs": []
    },
    {
      "cell_type": "code",
      "metadata": {
        "id": "GKgwDJHE-eS5"
      },
      "source": [
        "list_img=[img for img in os.listdir(imgpath) if img.endswith('.jpg')==True]\n",
        "list_txt=[img for img in os.listdir(annotationpath) if img.endswith('.txt')==True]"
      ],
      "execution_count": 13,
      "outputs": []
    },
    {
      "cell_type": "code",
      "metadata": {
        "id": "jVSjvAQsIdak"
      },
      "source": [
        "path_img=[]\n",
        "\n",
        "for i in range (len(list_img)):\n",
        "    c = list_img[i].split(\".\")[0]+'.jpg'\n",
        "    path_img.append(c)"
      ],
      "execution_count": 14,
      "outputs": []
    },
    {
      "cell_type": "code",
      "metadata": {
        "id": "-wrKuSkMPzb7"
      },
      "source": [
        "path_txt=[]\n",
        "\n",
        "for i in range (len(path_img)):\n",
        "    t = path_img[i].split(\".\")[0]+'.txt'\n",
        "    path_txt.append(t)"
      ],
      "execution_count": 15,
      "outputs": []
    },
    {
      "cell_type": "code",
      "metadata": {
        "id": "3rcWPELBEWZ3"
      },
      "source": [
        "df=pd.DataFrame(list(zip(path_img,path_txt)))"
      ],
      "execution_count": 16,
      "outputs": []
    },
    {
      "cell_type": "code",
      "metadata": {
        "id": "vcgKa3i_JRg_"
      },
      "source": [
        "# split \n",
        "data_train, data_test, labels_train, labels_test = train_test_split(df, df.index, test_size=0.20, random_state=42)"
      ],
      "execution_count": 17,
      "outputs": []
    },
    {
      "cell_type": "code",
      "metadata": {
        "id": "6hbqUWncHcQY"
      },
      "source": [
        "# Function split \n",
        "split_img_label(data_train,data_test,imgpath,annotationpath)"
      ],
      "execution_count": 18,
      "outputs": []
    },
    {
      "cell_type": "code",
      "metadata": {
        "colab": {
          "base_uri": "https://localhost:8080/"
        },
        "id": "fiwkXxT-1xCm",
        "outputId": "57013706-46b6-478e-806a-4e89d948eeac"
      },
      "source": [
        "print('cp '+annotationpath+'data.yaml'+' '+ 'data.yaml')"
      ],
      "execution_count": 24,
      "outputs": [
        {
          "output_type": "stream",
          "text": [
            "cp /content/annot/data.yaml data.yaml\n"
          ],
          "name": "stdout"
        }
      ]
    },
    {
      "cell_type": "code",
      "metadata": {
        "id": "uRKs3fHbaTwE"
      },
      "source": [
        "cp /content/drive/MyDrive/Data/temp/annotations/data.yaml /content/data.yaml"
      ],
      "execution_count": 34,
      "outputs": []
    },
    {
      "cell_type": "code",
      "metadata": {
        "colab": {
          "base_uri": "https://localhost:8080/"
        },
        "id": "lcK1JB5MKdnx",
        "outputId": "5642c2f1-c612-41a8-cc9a-e951588c99c3"
      },
      "source": [
        "ls"
      ],
      "execution_count": 27,
      "outputs": [
        {
          "output_type": "stream",
          "text": [
            "\u001b[0m\u001b[01;34mdata\u001b[0m/      Dockerfile  \u001b[01;34mmodels\u001b[0m/            test.py         \u001b[01;34mutils\u001b[0m/\n",
            "data.yaml  hubconf.py  \u001b[01;32mREADME.md\u001b[0m*         train.py        \u001b[01;34mweights\u001b[0m/\n",
            "detect.py  LICENSE     \u001b[01;32mrequirements.txt\u001b[0m*  tutorial.ipynb\n"
          ],
          "name": "stdout"
        }
      ]
    },
    {
      "cell_type": "markdown",
      "metadata": {
        "id": "2CtR5gWRSWWb"
      },
      "source": [
        "https://albumentations.ai/docs/examples/pytorch_classification/"
      ]
    },
    {
      "cell_type": "code",
      "metadata": {
        "colab": {
          "base_uri": "https://localhost:8080/"
        },
        "id": "rwau4UY9Zl-v",
        "outputId": "1a2ecbfe-57fd-4ae9-b7ff-7f6da8e374d9"
      },
      "source": [
        "# clone YOLOv5 repository\n",
        "!git clone https://github.com/ultralytics/yolov5  # clone repo\n",
        "%cd yolov5\n",
        "!git reset --hard 886f1c03d839575afecb059accf74296fad395b6"
      ],
      "execution_count": 21,
      "outputs": [
        {
          "output_type": "stream",
          "text": [
            "Cloning into 'yolov5'...\n",
            "remote: Enumerating objects: 8393, done.\u001b[K\n",
            "remote: Counting objects: 100% (107/107), done.\u001b[K\n",
            "remote: Compressing objects: 100% (74/74), done.\u001b[K\n",
            "remote: Total 8393 (delta 50), reused 62 (delta 33), pack-reused 8286\u001b[K\n",
            "Receiving objects: 100% (8393/8393), 9.30 MiB | 10.37 MiB/s, done.\n",
            "Resolving deltas: 100% (5790/5790), done.\n",
            "/content/yolov5\n",
            "HEAD is now at 886f1c0 DDP after autoanchor reorder (#2421)\n"
          ],
          "name": "stdout"
        }
      ]
    },
    {
      "cell_type": "code",
      "metadata": {
        "colab": {
          "base_uri": "https://localhost:8080/"
        },
        "id": "7BT-PDqLZ9yi",
        "outputId": "c3fccd19-15ad-4f2d-929a-eb2b7039485e"
      },
      "source": [
        "# install dependencies as necessary\n",
        "!pip install -qr requirements.txt  # install dependencies (ignore errors)\n",
        "import torch\n",
        "\n",
        "from IPython.display import Image, clear_output  # to display images\n",
        "from utils.google_utils import gdrive_download  # to download models/datasets\n",
        "\n",
        "# clear_output()\n",
        "print('Setup complete. Using torch %s %s' % (torch.__version__, torch.cuda.get_device_properties(0) if torch.cuda.is_available() else 'CPU'))"
      ],
      "execution_count": 22,
      "outputs": [
        {
          "output_type": "stream",
          "text": [
            "\u001b[?25l\r\u001b[K     |▌                               | 10 kB 21.1 MB/s eta 0:00:01\r\u001b[K     |█                               | 20 kB 14.2 MB/s eta 0:00:01\r\u001b[K     |█▌                              | 30 kB 10.6 MB/s eta 0:00:01\r\u001b[K     |██                              | 40 kB 9.4 MB/s eta 0:00:01\r\u001b[K     |██▋                             | 51 kB 4.9 MB/s eta 0:00:01\r\u001b[K     |███                             | 61 kB 5.4 MB/s eta 0:00:01\r\u001b[K     |███▋                            | 71 kB 5.7 MB/s eta 0:00:01\r\u001b[K     |████▏                           | 81 kB 6.1 MB/s eta 0:00:01\r\u001b[K     |████▋                           | 92 kB 6.4 MB/s eta 0:00:01\r\u001b[K     |█████▏                          | 102 kB 5.0 MB/s eta 0:00:01\r\u001b[K     |█████▋                          | 112 kB 5.0 MB/s eta 0:00:01\r\u001b[K     |██████▏                         | 122 kB 5.0 MB/s eta 0:00:01\r\u001b[K     |██████▊                         | 133 kB 5.0 MB/s eta 0:00:01\r\u001b[K     |███████▏                        | 143 kB 5.0 MB/s eta 0:00:01\r\u001b[K     |███████▊                        | 153 kB 5.0 MB/s eta 0:00:01\r\u001b[K     |████████▎                       | 163 kB 5.0 MB/s eta 0:00:01\r\u001b[K     |████████▊                       | 174 kB 5.0 MB/s eta 0:00:01\r\u001b[K     |█████████▎                      | 184 kB 5.0 MB/s eta 0:00:01\r\u001b[K     |█████████▉                      | 194 kB 5.0 MB/s eta 0:00:01\r\u001b[K     |██████████▎                     | 204 kB 5.0 MB/s eta 0:00:01\r\u001b[K     |██████████▉                     | 215 kB 5.0 MB/s eta 0:00:01\r\u001b[K     |███████████▎                    | 225 kB 5.0 MB/s eta 0:00:01\r\u001b[K     |███████████▉                    | 235 kB 5.0 MB/s eta 0:00:01\r\u001b[K     |████████████▍                   | 245 kB 5.0 MB/s eta 0:00:01\r\u001b[K     |████████████▉                   | 256 kB 5.0 MB/s eta 0:00:01\r\u001b[K     |█████████████▍                  | 266 kB 5.0 MB/s eta 0:00:01\r\u001b[K     |██████████████                  | 276 kB 5.0 MB/s eta 0:00:01\r\u001b[K     |██████████████▍                 | 286 kB 5.0 MB/s eta 0:00:01\r\u001b[K     |███████████████                 | 296 kB 5.0 MB/s eta 0:00:01\r\u001b[K     |███████████████▍                | 307 kB 5.0 MB/s eta 0:00:01\r\u001b[K     |████████████████                | 317 kB 5.0 MB/s eta 0:00:01\r\u001b[K     |████████████████▌               | 327 kB 5.0 MB/s eta 0:00:01\r\u001b[K     |█████████████████               | 337 kB 5.0 MB/s eta 0:00:01\r\u001b[K     |█████████████████▌              | 348 kB 5.0 MB/s eta 0:00:01\r\u001b[K     |██████████████████              | 358 kB 5.0 MB/s eta 0:00:01\r\u001b[K     |██████████████████▌             | 368 kB 5.0 MB/s eta 0:00:01\r\u001b[K     |███████████████████             | 378 kB 5.0 MB/s eta 0:00:01\r\u001b[K     |███████████████████▋            | 389 kB 5.0 MB/s eta 0:00:01\r\u001b[K     |████████████████████            | 399 kB 5.0 MB/s eta 0:00:01\r\u001b[K     |████████████████████▋           | 409 kB 5.0 MB/s eta 0:00:01\r\u001b[K     |█████████████████████           | 419 kB 5.0 MB/s eta 0:00:01\r\u001b[K     |█████████████████████▋          | 430 kB 5.0 MB/s eta 0:00:01\r\u001b[K     |██████████████████████▏         | 440 kB 5.0 MB/s eta 0:00:01\r\u001b[K     |██████████████████████▋         | 450 kB 5.0 MB/s eta 0:00:01\r\u001b[K     |███████████████████████▏        | 460 kB 5.0 MB/s eta 0:00:01\r\u001b[K     |███████████████████████▊        | 471 kB 5.0 MB/s eta 0:00:01\r\u001b[K     |████████████████████████▏       | 481 kB 5.0 MB/s eta 0:00:01\r\u001b[K     |████████████████████████▊       | 491 kB 5.0 MB/s eta 0:00:01\r\u001b[K     |█████████████████████████▏      | 501 kB 5.0 MB/s eta 0:00:01\r\u001b[K     |█████████████████████████▊      | 512 kB 5.0 MB/s eta 0:00:01\r\u001b[K     |██████████████████████████▎     | 522 kB 5.0 MB/s eta 0:00:01\r\u001b[K     |██████████████████████████▊     | 532 kB 5.0 MB/s eta 0:00:01\r\u001b[K     |███████████████████████████▎    | 542 kB 5.0 MB/s eta 0:00:01\r\u001b[K     |███████████████████████████▉    | 552 kB 5.0 MB/s eta 0:00:01\r\u001b[K     |████████████████████████████▎   | 563 kB 5.0 MB/s eta 0:00:01\r\u001b[K     |████████████████████████████▉   | 573 kB 5.0 MB/s eta 0:00:01\r\u001b[K     |█████████████████████████████▍  | 583 kB 5.0 MB/s eta 0:00:01\r\u001b[K     |█████████████████████████████▉  | 593 kB 5.0 MB/s eta 0:00:01\r\u001b[K     |██████████████████████████████▍ | 604 kB 5.0 MB/s eta 0:00:01\r\u001b[K     |██████████████████████████████▉ | 614 kB 5.0 MB/s eta 0:00:01\r\u001b[K     |███████████████████████████████▍| 624 kB 5.0 MB/s eta 0:00:01\r\u001b[K     |████████████████████████████████| 634 kB 5.0 MB/s eta 0:00:01\r\u001b[K     |████████████████████████████████| 636 kB 5.0 MB/s \n",
            "\u001b[?25hSetup complete. Using torch 1.9.0+cu102 CPU\n"
          ],
          "name": "stdout"
        }
      ]
    },
    {
      "cell_type": "code",
      "metadata": {
        "colab": {
          "base_uri": "https://localhost:8080/"
        },
        "id": "paRX6XSBaEea",
        "outputId": "bdeb4569-bbbd-4b50-9a53-66cb74c65896"
      },
      "source": [
        "%cat data.yaml"
      ],
      "execution_count": 28,
      "outputs": [
        {
          "output_type": "stream",
          "text": [
            "train: ../train/images\n",
            "val: ../valid/images\n",
            "\n",
            "nc: 6\n",
            "names: ['busfront', 'busrear', 'busroute', 'busside', 'frontdoor', 'reardoor']"
          ],
          "name": "stdout"
        }
      ]
    },
    {
      "cell_type": "code",
      "metadata": {
        "id": "BdS_BDoXamYU"
      },
      "source": [
        "# define number of classes based on YAML\n",
        "import yaml\n",
        "with open(\"data.yaml\", 'r') as stream:\n",
        "    num_classes = str(yaml.safe_load(stream)['nc'])"
      ],
      "execution_count": 29,
      "outputs": []
    },
    {
      "cell_type": "code",
      "metadata": {
        "colab": {
          "base_uri": "https://localhost:8080/"
        },
        "id": "7mXhogYdao9P",
        "outputId": "c56b0516-ddc3-4175-a8f1-7b9638c377c0"
      },
      "source": [
        "#this is the model configuration we will use for our tutorial \n",
        "%cat /content/yolov5/models/yolov5s.yaml"
      ],
      "execution_count": 30,
      "outputs": [
        {
          "output_type": "stream",
          "text": [
            "# parameters\n",
            "nc: 80  # number of classes\n",
            "depth_multiple: 0.33  # model depth multiple\n",
            "width_multiple: 0.50  # layer channel multiple\n",
            "\n",
            "# anchors\n",
            "anchors:\n",
            "  - [10,13, 16,30, 33,23]  # P3/8\n",
            "  - [30,61, 62,45, 59,119]  # P4/16\n",
            "  - [116,90, 156,198, 373,326]  # P5/32\n",
            "\n",
            "# YOLOv5 backbone\n",
            "backbone:\n",
            "  # [from, number, module, args]\n",
            "  [[-1, 1, Focus, [64, 3]],  # 0-P1/2\n",
            "   [-1, 1, Conv, [128, 3, 2]],  # 1-P2/4\n",
            "   [-1, 3, C3, [128]],\n",
            "   [-1, 1, Conv, [256, 3, 2]],  # 3-P3/8\n",
            "   [-1, 9, C3, [256]],\n",
            "   [-1, 1, Conv, [512, 3, 2]],  # 5-P4/16\n",
            "   [-1, 9, C3, [512]],\n",
            "   [-1, 1, Conv, [1024, 3, 2]],  # 7-P5/32\n",
            "   [-1, 1, SPP, [1024, [5, 9, 13]]],\n",
            "   [-1, 3, C3, [1024, False]],  # 9\n",
            "  ]\n",
            "\n",
            "# YOLOv5 head\n",
            "head:\n",
            "  [[-1, 1, Conv, [512, 1, 1]],\n",
            "   [-1, 1, nn.Upsample, [None, 2, 'nearest']],\n",
            "   [[-1, 6], 1, Concat, [1]],  # cat backbone P4\n",
            "   [-1, 3, C3, [512, False]],  # 13\n",
            "\n",
            "   [-1, 1, Conv, [256, 1, 1]],\n",
            "   [-1, 1, nn.Upsample, [None, 2, 'nearest']],\n",
            "   [[-1, 4], 1, Concat, [1]],  # cat backbone P3\n",
            "   [-1, 3, C3, [256, False]],  # 17 (P3/8-small)\n",
            "\n",
            "   [-1, 1, Conv, [256, 3, 2]],\n",
            "   [[-1, 14], 1, Concat, [1]],  # cat head P4\n",
            "   [-1, 3, C3, [512, False]],  # 20 (P4/16-medium)\n",
            "\n",
            "   [-1, 1, Conv, [512, 3, 2]],\n",
            "   [[-1, 10], 1, Concat, [1]],  # cat head P5\n",
            "   [-1, 3, C3, [1024, False]],  # 23 (P5/32-large)\n",
            "\n",
            "   [[17, 20, 23], 1, Detect, [nc, anchors]],  # Detect(P3, P4, P5)\n",
            "  ]\n"
          ],
          "name": "stdout"
        }
      ]
    },
    {
      "cell_type": "code",
      "metadata": {
        "id": "GglWQriQavdA"
      },
      "source": [
        "#customize iPython writefile so we can write variables\n",
        "from IPython.core.magic import register_line_cell_magic\n",
        "\n",
        "@register_line_cell_magic\n",
        "def writetemplate(line, cell):\n",
        "    with open(line, 'w') as f:\n",
        "        f.write(cell.format(**globals()))"
      ],
      "execution_count": 31,
      "outputs": []
    },
    {
      "cell_type": "code",
      "metadata": {
        "id": "ZqdbGBZ2awgv"
      },
      "source": [
        "%%writetemplate /content/yolov5/models/custom_yolov5s.yaml\n",
        "\n",
        "# parameters\n",
        "nc: {num_classes}  # number of classes\n",
        "depth_multiple: 0.33  # model depth multiple\n",
        "width_multiple: 0.50  # layer channel multiple\n",
        "\n",
        "# anchors\n",
        "anchors:\n",
        "  - [10,13, 16,30, 33,23]  # P3/8\n",
        "  - [30,61, 62,45, 59,119]  # P4/16\n",
        "  - [116,90, 156,198, 373,326]  # P5/32\n",
        "\n",
        "# YOLOv5 backbone\n",
        "backbone:\n",
        "  # [from, number, module, args]\n",
        "  [[-1, 1, Focus, [64, 3]],  # 0-P1/2\n",
        "   [-1, 1, Conv, [128, 3, 2]],  # 1-P2/4\n",
        "   [-1, 3, BottleneckCSP, [128]],\n",
        "   [-1, 1, Conv, [256, 3, 2]],  # 3-P3/8\n",
        "   [-1, 9, BottleneckCSP, [256]],\n",
        "   [-1, 1, Conv, [512, 3, 2]],  # 5-P4/16\n",
        "   [-1, 9, BottleneckCSP, [512]],\n",
        "   [-1, 1, Conv, [1024, 3, 2]],  # 7-P5/32\n",
        "   [-1, 1, SPP, [1024, [5, 9, 13]]],\n",
        "   [-1, 3, BottleneckCSP, [1024, False]],  # 9\n",
        "  ]\n",
        "\n",
        "# YOLOv5 head\n",
        "head:\n",
        "  [[-1, 1, Conv, [512, 1, 1]],\n",
        "   [-1, 1, nn.Upsample, [None, 2, 'nearest']],\n",
        "   [[-1, 6], 1, Concat, [1]],  # cat backbone P4\n",
        "   [-1, 3, BottleneckCSP, [512, False]],  # 13\n",
        "\n",
        "   [-1, 1, Conv, [256, 1, 1]],\n",
        "   [-1, 1, nn.Upsample, [None, 2, 'nearest']],\n",
        "   [[-1, 4], 1, Concat, [1]],  # cat backbone P3\n",
        "   [-1, 3, BottleneckCSP, [256, False]],  # 17 (P3/8-small)\n",
        "\n",
        "   [-1, 1, Conv, [256, 3, 2]],\n",
        "   [[-1, 14], 1, Concat, [1]],  # cat head P4\n",
        "   [-1, 3, BottleneckCSP, [512, False]],  # 20 (P4/16-medium)\n",
        "\n",
        "   [-1, 1, Conv, [512, 3, 2]],\n",
        "   [[-1, 10], 1, Concat, [1]],  # cat head P5\n",
        "   [-1, 3, BottleneckCSP, [1024, False]],  # 23 (P5/32-large)\n",
        "\n",
        "   [[17, 20, 23], 1, Detect, [nc, anchors]],  # Detect(P3, P4, P5)\n",
        "  ]"
      ],
      "execution_count": 32,
      "outputs": []
    },
    {
      "cell_type": "code",
      "metadata": {
        "colab": {
          "base_uri": "https://localhost:8080/"
        },
        "id": "mAWeggpxZc-n",
        "outputId": "022ebad2-9720-4ed1-9986-09c6dda8d854"
      },
      "source": [
        "%%time\n",
        "%cd /content/yolov5/\n",
        "!python train.py --img 416 --batch 16 --epochs 100 --data '../data.yaml' --cfg ./models/custom_yolov5s.yaml --weights '' --name yolov5s_results  --cache"
      ],
      "execution_count": null,
      "outputs": [
        {
          "output_type": "stream",
          "text": [
            "/content/yolov5\n",
            "\u001b[34m\u001b[1mgithub: \u001b[0m⚠️ WARNING: code is out of date by 382 commits. Use 'git pull' to update or 'git clone https://github.com/ultralytics/yolov5' to download latest.\n",
            "YOLOv5 v4.0-126-g886f1c0 torch 1.9.0+cu102 CPU\n",
            "\n",
            "Namespace(adam=False, batch_size=16, bucket='', cache_images=True, cfg='./models/custom_yolov5s.yaml', data='../data.yaml', device='', entity=None, epochs=100, evolve=False, exist_ok=False, global_rank=-1, hyp='data/hyp.scratch.yaml', image_weights=False, img_size=[416, 416], linear_lr=False, local_rank=-1, log_artifacts=False, log_imgs=16, multi_scale=False, name='yolov5s_results', noautoanchor=False, nosave=False, notest=False, project='runs/train', quad=False, rect=False, resume=False, save_dir='runs/train/yolov5s_results', single_cls=False, sync_bn=False, total_batch_size=16, weights='', workers=8, world_size=1)\n",
            "\u001b[34m\u001b[1mwandb: \u001b[0mInstall Weights & Biases for YOLOv5 logging with 'pip install wandb' (recommended)\n",
            "Start Tensorboard with \"tensorboard --logdir runs/train\", view at http://localhost:6006/\n",
            "2021-07-25 06:49:59.035940: I tensorflow/stream_executor/platform/default/dso_loader.cc:53] Successfully opened dynamic library libcudart.so.11.0\n",
            "\u001b[34m\u001b[1mhyperparameters: \u001b[0mlr0=0.01, lrf=0.2, momentum=0.937, weight_decay=0.0005, warmup_epochs=3.0, warmup_momentum=0.8, warmup_bias_lr=0.1, box=0.05, cls=0.5, cls_pw=1.0, obj=1.0, obj_pw=1.0, iou_t=0.2, anchor_t=4.0, fl_gamma=0.0, hsv_h=0.015, hsv_s=0.7, hsv_v=0.4, degrees=0.0, translate=0.1, scale=0.5, shear=0.0, perspective=0.0, flipud=0.0, fliplr=0.5, mosaic=1.0, mixup=0.0\n",
            "\n",
            "                 from  n    params  module                                  arguments                     \n",
            "  0                -1  1      3520  models.common.Focus                     [3, 32, 3]                    \n",
            "  1                -1  1     18560  models.common.Conv                      [32, 64, 3, 2]                \n",
            "  2                -1  1     19904  models.common.BottleneckCSP             [64, 64, 1]                   \n",
            "  3                -1  1     73984  models.common.Conv                      [64, 128, 3, 2]               \n",
            "  4                -1  1    161152  models.common.BottleneckCSP             [128, 128, 3]                 \n",
            "  5                -1  1    295424  models.common.Conv                      [128, 256, 3, 2]              \n",
            "  6                -1  1    641792  models.common.BottleneckCSP             [256, 256, 3]                 \n",
            "  7                -1  1   1180672  models.common.Conv                      [256, 512, 3, 2]              \n",
            "  8                -1  1    656896  models.common.SPP                       [512, 512, [5, 9, 13]]        \n",
            "  9                -1  1   1248768  models.common.BottleneckCSP             [512, 512, 1, False]          \n",
            " 10                -1  1    131584  models.common.Conv                      [512, 256, 1, 1]              \n",
            " 11                -1  1         0  torch.nn.modules.upsampling.Upsample    [None, 2, 'nearest']          \n",
            " 12           [-1, 6]  1         0  models.common.Concat                    [1]                           \n",
            " 13                -1  1    378624  models.common.BottleneckCSP             [512, 256, 1, False]          \n",
            " 14                -1  1     33024  models.common.Conv                      [256, 128, 1, 1]              \n",
            " 15                -1  1         0  torch.nn.modules.upsampling.Upsample    [None, 2, 'nearest']          \n",
            " 16           [-1, 4]  1         0  models.common.Concat                    [1]                           \n",
            " 17                -1  1     95104  models.common.BottleneckCSP             [256, 128, 1, False]          \n",
            " 18                -1  1    147712  models.common.Conv                      [128, 128, 3, 2]              \n",
            " 19          [-1, 14]  1         0  models.common.Concat                    [1]                           \n",
            " 20                -1  1    313088  models.common.BottleneckCSP             [256, 256, 1, False]          \n",
            " 21                -1  1    590336  models.common.Conv                      [256, 256, 3, 2]              \n",
            " 22          [-1, 10]  1         0  models.common.Concat                    [1]                           \n",
            " 23                -1  1   1248768  models.common.BottleneckCSP             [512, 512, 1, False]          \n",
            " 24      [17, 20, 23]  1     29667  models.yolo.Detect                      [6, [[10, 13, 16, 30, 33, 23], [30, 61, 62, 45, 59, 119], [116, 90, 156, 198, 373, 326]], [128, 256, 512]]\n",
            "/usr/local/lib/python3.7/dist-packages/torch/nn/functional.py:718: UserWarning: Named tensors and all their associated APIs are an experimental feature and subject to change. Please do not use them for anything important until they are released as stable. (Triggered internally at  /pytorch/c10/core/TensorImpl.h:1156.)\n",
            "  return torch.max_pool2d(input, kernel_size, stride, padding, dilation, ceil_mode)\n",
            "Model Summary: 283 layers, 7268579 parameters, 7268579 gradients, 16.9 GFLOPS\n",
            "\n",
            "Scaled weight_decay = 0.0005\n",
            "Optimizer groups: 62 .bias, 70 conv.weight, 59 other\n",
            "\u001b[34m\u001b[1mtrain: \u001b[0mScanning '../train/labels' for images and labels... 647 found, 19 missing, 0 empty, 0 corrupted: 100% 666/666 [00:00<00:00, 1122.15it/s]\n",
            "\u001b[34m\u001b[1mtrain: \u001b[0mNew cache created: ../train/labels.cache\n",
            "\u001b[34m\u001b[1mtrain: \u001b[0mCaching images (0.2GB): 100% 666/666 [00:05<00:00, 132.19it/s]\n",
            "\u001b[34m\u001b[1mval: \u001b[0mScanning '../valid/labels' for images and labels... 160 found, 7 missing, 0 empty, 0 corrupted: 100% 167/167 [00:00<00:00, 599.03it/s]\n",
            "\u001b[34m\u001b[1mval: \u001b[0mNew cache created: ../valid/labels.cache\n",
            "\u001b[34m\u001b[1mval: \u001b[0mCaching images (0.1GB): 100% 167/167 [00:01<00:00, 95.04it/s]\n",
            "Plotting labels... \n",
            "\n",
            "\u001b[34m\u001b[1mautoanchor: \u001b[0mAnalyzing anchors... anchors/target = 4.43, Best Possible Recall (BPR) = 1.0000\n",
            "Image sizes 416 train, 416 test\n",
            "Using 2 dataloader workers\n",
            "Logging results to runs/train/yolov5s_results\n",
            "Starting training for 100 epochs...\n",
            "\n",
            "     Epoch   gpu_mem       box       obj       cls     total   targets  img_size\n",
            "      0/99        0G    0.1069    0.0315    0.0532    0.1916        97       416:  43% 18/42 [03:19<04:23, 10.99s/it]"
          ],
          "name": "stdout"
        }
      ]
    },
    {
      "cell_type": "code",
      "metadata": {
        "id": "L7NCJTHYaz62"
      },
      "source": [
        ""
      ],
      "execution_count": null,
      "outputs": []
    }
  ]
}