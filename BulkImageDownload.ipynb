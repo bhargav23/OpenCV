{
  "nbformat": 4,
  "nbformat_minor": 0,
  "metadata": {
    "colab": {
      "name": "BulkImageDownload.ipynb",
      "provenance": [],
      "authorship_tag": "ABX9TyN5fwyeJM2p9CSfDmPV28xI",
      "include_colab_link": true
    },
    "kernelspec": {
      "name": "python3",
      "display_name": "Python 3"
    },
    "language_info": {
      "name": "python"
    }
  },
  "cells": [
    {
      "cell_type": "markdown",
      "metadata": {
        "id": "view-in-github",
        "colab_type": "text"
      },
      "source": [
        "<a href=\"https://colab.research.google.com/github/bhargav23/OpenCV/blob/main/BulkImageDownload.ipynb\" target=\"_parent\"><img src=\"https://colab.research.google.com/assets/colab-badge.svg\" alt=\"Open In Colab\"/></a>"
      ]
    },
    {
      "cell_type": "code",
      "metadata": {
        "colab": {
          "base_uri": "https://localhost:8080/"
        },
        "id": "C_cy79tdULCp",
        "outputId": "6fbbf10e-e03b-40d8-f7b7-333c06de9322"
      },
      "source": [
        "!pip install beautifulsoup4\n",
        "!pip install tldextract"
      ],
      "execution_count": 6,
      "outputs": [
        {
          "output_type": "stream",
          "text": [
            "Requirement already satisfied: beautifulsoup4 in /usr/local/lib/python3.7/dist-packages (4.6.3)\n",
            "Collecting tldextract\n",
            "  Downloading tldextract-3.1.0-py2.py3-none-any.whl (87 kB)\n",
            "\u001b[K     |████████████████████████████████| 87 kB 3.7 MB/s \n",
            "\u001b[?25hCollecting requests-file>=1.4\n",
            "  Downloading requests_file-1.5.1-py2.py3-none-any.whl (3.7 kB)\n",
            "Requirement already satisfied: requests>=2.1.0 in /usr/local/lib/python3.7/dist-packages (from tldextract) (2.23.0)\n",
            "Requirement already satisfied: filelock>=3.0.8 in /usr/local/lib/python3.7/dist-packages (from tldextract) (3.0.12)\n",
            "Requirement already satisfied: idna in /usr/local/lib/python3.7/dist-packages (from tldextract) (2.10)\n",
            "Requirement already satisfied: certifi>=2017.4.17 in /usr/local/lib/python3.7/dist-packages (from requests>=2.1.0->tldextract) (2021.5.30)\n",
            "Requirement already satisfied: chardet<4,>=3.0.2 in /usr/local/lib/python3.7/dist-packages (from requests>=2.1.0->tldextract) (3.0.4)\n",
            "Requirement already satisfied: urllib3!=1.25.0,!=1.25.1,<1.26,>=1.21.1 in /usr/local/lib/python3.7/dist-packages (from requests>=2.1.0->tldextract) (1.24.3)\n",
            "Requirement already satisfied: six in /usr/local/lib/python3.7/dist-packages (from requests-file>=1.4->tldextract) (1.15.0)\n",
            "Installing collected packages: requests-file, tldextract\n",
            "Successfully installed requests-file-1.5.1 tldextract-3.1.0\n"
          ],
          "name": "stdout"
        }
      ]
    },
    {
      "cell_type": "code",
      "metadata": {
        "id": "kDW1djT_UK_Y"
      },
      "source": [
        "import requests\n",
        "import os\n",
        "import subprocess\n",
        "import urllib.request\n",
        "from bs4 import BeautifulSoup\n",
        "import tldextract\n",
        "from urllib.request import urlopen\n",
        "import re\n",
        "import time"
      ],
      "execution_count": 7,
      "outputs": []
    },
    {
      "cell_type": "code",
      "metadata": {
        "id": "I58O8-OQUK6y"
      },
      "source": [
        "!mkdir all_images"
      ],
      "execution_count": 8,
      "outputs": []
    },
    {
      "cell_type": "code",
      "metadata": {
        "colab": {
          "base_uri": "https://localhost:8080/"
        },
        "id": "xF5whebHUUZY",
        "outputId": "ae1fca83-0af5-432f-f6dd-5d0970e19e86"
      },
      "source": [
        "from google.colab import drive\n",
        "drive.mount('/content/drive')"
      ],
      "execution_count": 32,
      "outputs": [
        {
          "output_type": "stream",
          "text": [
            "Mounted at /content/drive\n"
          ],
          "name": "stdout"
        }
      ]
    },
    {
      "cell_type": "code",
      "metadata": {
        "id": "awr4wuwVthGe"
      },
      "source": [
        ""
      ],
      "execution_count": null,
      "outputs": []
    },
    {
      "cell_type": "code",
      "metadata": {
        "id": "GbB38rGuUdRx"
      },
      "source": [
        "urllist = ['http://shantanuautoclickz.blogspot.com/2015/','http://shantanuautoclickz.blogspot.com/2015/12/','http://shantanuautoclickz.blogspot.com/2016/','http://shantanuautoclickz.blogspot.com/2016/01/','http://shantanuautoclickz.blogspot.com/2016/02/','http://shantanuautoclickz.blogspot.com/2016/03/','http://shantanuautoclickz.blogspot.com/2016/04/','http://shantanuautoclickz.blogspot.com/2016/05/','http://shantanuautoclickz.blogspot.com/2016/06/','http://shantanuautoclickz.blogspot.com/2016/06/blog-post_9.html','http://shantanuautoclickz.blogspot.com/2016/06/blog-post.html','http://shantanuautoclickz.blogspot.com/2016/07/','http://shantanuautoclickz.blogspot.com/2016/08/','http://shantanuautoclickz.blogspot.com/2016/09/','http://shantanuautoclickz.blogspot.com/2016/10/','http://shantanuautoclickz.blogspot.com/2016/11/','http://shantanuautoclickz.blogspot.com/2016/12/','http://shantanuautoclickz.blogspot.com/2017/','http://shantanuautoclickz.blogspot.com/2017/01/','http://shantanuautoclickz.blogspot.com/2017/02/','http://shantanuautoclickz.blogspot.com/2017/04/','http://shantanuautoclickz.blogspot.com/2017/05/','http://shantanuautoclickz.blogspot.com/2017/06/','http://shantanuautoclickz.blogspot.com/2017/07/','http://shantanuautoclickz.blogspot.com/2017/07/brand-new-veera-samrat-v7-21-ac-sleeper.html','http://shantanuautoclickz.blogspot.com/2017/08/','http://shantanuautoclickz.blogspot.com/2017/09/','http://shantanuautoclickz.blogspot.com/2017/10/','http://shantanuautoclickz.blogspot.com/2017/11/','http://shantanuautoclickz.blogspot.com/2017/12/','http://shantanuautoclickz.blogspot.com/2018/','http://shantanuautoclickz.blogspot.com/2018/01/','http://shantanuautoclickz.blogspot.com/2018/02/','http://shantanuautoclickz.blogspot.com/2018/03/','http://shantanuautoclickz.blogspot.com/2018/04/','http://shantanuautoclickz.blogspot.com/2018/05/','http://shantanuautoclickz.blogspot.com/2018/06/','http://shantanuautoclickz.blogspot.com/2018/09/','http://shantanuautoclickz.blogspot.com/2018/10/','http://shantanuautoclickz.blogspot.com/2018/11/','http://shantanuautoclickz.blogspot.com/2018/12/','http://shantanuautoclickz.blogspot.com/2019/','http://shantanuautoclickz.blogspot.com/2019/01/','http://shantanuautoclickz.blogspot.com/2019/02/','http://shantanuautoclickz.blogspot.com/2019/03/','http://shantanuautoclickz.blogspot.com/2019/04/','http://shantanuautoclickz.blogspot.com/2019/05/','http://shantanuautoclickz.blogspot.com/2019/06/','http://shantanuautoclickz.blogspot.com/2019/07/','http://shantanuautoclickz.blogspot.com/2019/07/hans-travels-mg-dreamz-mercedes-benz-21.html','http://shantanuautoclickz.blogspot.com/2019/09/','http://shantanuautoclickz.blogspot.com/2019/10/','http://shantanuautoclickz.blogspot.com/2019/11/','http://shantanuautoclickz.blogspot.com/2019/12/','http://shantanuautoclickz.blogspot.com/2020/','http://shantanuautoclickz.blogspot.com/2020/01/','http://shantanuautoclickz.blogspot.com/2020/02/','http://shantanuautoclickz.blogspot.com/2020/03/','http://shantanuautoclickz.blogspot.com/2020/06/','http://shantanuautoclickz.blogspot.com/2020/07/','http://shantanuautoclickz.blogspot.com/2020/08/','http://shantanuautoclickz.blogspot.com/2020/09/','http://shantanuautoclickz.blogspot.com/2020/09/mg-starz-premium-volvo-multiaxle.html','http://shantanuautoclickz.blogspot.com/2020/10/','http://shantanuautoclickz.blogspot.com/2020/11/','http://shantanuautoclickz.blogspot.com/2020/12/','http://shantanuautoclickz.blogspot.com/2021/','http://shantanuautoclickz.blogspot.com/2021/01/','http://shantanuautoclickz.blogspot.com/2021/02/','http://shantanuautoclickz.blogspot.com/2021/03/','http://shantanuautoclickz.blogspot.com/2021/04/','http://shantanuautoclickz.blogspot.com/2021/05/','http://shantanuautoclickz.blogspot.com/2021/06/','http://shantanuautoclickz.blogspot.com/2021/06/brand-new-jakhar-travels-volvo-b11r-bs.html','http://shantanuautoclickz.blogspot.com/2021/06/btp-travels-prakash-capella-ac-sleeper.html','http://shantanuautoclickz.blogspot.com/2021/06/inaugural-run-of-btp-travels-veera-v7.html','http://shantanuautoclickz.blogspot.com/2021/06/m-b-link-tourist-ashok-leyland-veera-v7.html','http://shantanuautoclickz.blogspot.com/2021/06/msrtc-tata-semi-luxury-hirkani.html','http://shantanuautoclickz.blogspot.com/2021/06/shree-travels-bharatbenz-jcbl-built-ac.html','http://shantanuautoclickz.blogspot.com/2021/07/','http://shantanuautoclickz.blogspot.com/2021/07/all-new-m-r-travels-volvo-b11r-bs-6-i.html']"
      ],
      "execution_count": 10,
      "outputs": []
    },
    {
      "cell_type": "code",
      "metadata": {
        "id": "AAHZPUTkUgzt"
      },
      "source": [
        "image_urls = []\n",
        "for url in urllist:\n",
        "  html = urlopen(url).read()\n",
        "  soup = BeautifulSoup(html, 'html.parser')\n",
        "  for link in soup.find_all('a'):\n",
        "    image_urls.append(link.get('href'))\n",
        "  time.sleep(3)"
      ],
      "execution_count": 11,
      "outputs": []
    },
    {
      "cell_type": "code",
      "metadata": {
        "id": "R70bZ_nuUnIs"
      },
      "source": [
        "regex = re.compile(r'(https?:)?//?[^\\'\"<>]+?\\.(jpg|jpeg|gif|png)')\n",
        "filtered = [i for i in image_urls if  regex.match(str(i))]"
      ],
      "execution_count": 13,
      "outputs": []
    },
    {
      "cell_type": "code",
      "metadata": {
        "id": "USJyXbmoVu6x"
      },
      "source": [
        "import pandas as pd"
      ],
      "execution_count": 17,
      "outputs": []
    },
    {
      "cell_type": "code",
      "metadata": {
        "id": "jAbk7DIiYWzH"
      },
      "source": [
        "df = pd.DataFrame(filtered,columns=['images'])"
      ],
      "execution_count": 25,
      "outputs": []
    },
    {
      "cell_type": "code",
      "metadata": {
        "colab": {
          "base_uri": "https://localhost:8080/",
          "height": 204
        },
        "id": "HOCVjTKxY_tk",
        "outputId": "9842ba54-9633-487d-db92-c94d156f8f2c"
      },
      "source": [
        "df.head()"
      ],
      "execution_count": 26,
      "outputs": [
        {
          "output_type": "execute_result",
          "data": {
            "text/html": [
              "<div>\n",
              "<style scoped>\n",
              "    .dataframe tbody tr th:only-of-type {\n",
              "        vertical-align: middle;\n",
              "    }\n",
              "\n",
              "    .dataframe tbody tr th {\n",
              "        vertical-align: top;\n",
              "    }\n",
              "\n",
              "    .dataframe thead th {\n",
              "        text-align: right;\n",
              "    }\n",
              "</style>\n",
              "<table border=\"1\" class=\"dataframe\">\n",
              "  <thead>\n",
              "    <tr style=\"text-align: right;\">\n",
              "      <th></th>\n",
              "      <th>images</th>\n",
              "    </tr>\n",
              "  </thead>\n",
              "  <tbody>\n",
              "    <tr>\n",
              "      <th>0</th>\n",
              "      <td>http://1.bp.blogspot.com/-OxA-1kgA3kI/VoJxyQLY...</td>\n",
              "    </tr>\n",
              "    <tr>\n",
              "      <th>1</th>\n",
              "      <td>http://4.bp.blogspot.com/-1kAD0hh4l50/VoJx3Bm8...</td>\n",
              "    </tr>\n",
              "    <tr>\n",
              "      <th>2</th>\n",
              "      <td>http://4.bp.blogspot.com/-a1JR2VUkd2w/VoJx7KtW...</td>\n",
              "    </tr>\n",
              "    <tr>\n",
              "      <th>3</th>\n",
              "      <td>http://4.bp.blogspot.com/-WfU2CIT4rF8/VoJx7dOO...</td>\n",
              "    </tr>\n",
              "    <tr>\n",
              "      <th>4</th>\n",
              "      <td>http://2.bp.blogspot.com/-DNIFf4vtKCc/VoJx--CY...</td>\n",
              "    </tr>\n",
              "  </tbody>\n",
              "</table>\n",
              "</div>"
            ],
            "text/plain": [
              "                                              images\n",
              "0  http://1.bp.blogspot.com/-OxA-1kgA3kI/VoJxyQLY...\n",
              "1  http://4.bp.blogspot.com/-1kAD0hh4l50/VoJx3Bm8...\n",
              "2  http://4.bp.blogspot.com/-a1JR2VUkd2w/VoJx7KtW...\n",
              "3  http://4.bp.blogspot.com/-WfU2CIT4rF8/VoJx7dOO...\n",
              "4  http://2.bp.blogspot.com/-DNIFf4vtKCc/VoJx--CY..."
            ]
          },
          "metadata": {
            "tags": []
          },
          "execution_count": 26
        }
      ]
    },
    {
      "cell_type": "code",
      "metadata": {
        "colab": {
          "base_uri": "https://localhost:8080/"
        },
        "id": "Atc6ckWIYi7-",
        "outputId": "1c70fcbf-5e51-4fc5-ba53-d2652c83ab27"
      },
      "source": [
        "cd /content/drive/MyDrive/Data/dowloads"
      ],
      "execution_count": 33,
      "outputs": [
        {
          "output_type": "stream",
          "text": [
            "/content/drive/.shortcut-targets-by-id/1cvx03MF6sl6kQ1ZVtu4SLyCyNCfsSnxC/Data/dowloads\n"
          ],
          "name": "stdout"
        }
      ]
    },
    {
      "cell_type": "code",
      "metadata": {
        "id": "Lnmv4xdIY9NC"
      },
      "source": [
        "df.sort_values(\"images\", inplace = True)"
      ],
      "execution_count": 27,
      "outputs": []
    },
    {
      "cell_type": "code",
      "metadata": {
        "id": "hwQFatTdZSX_"
      },
      "source": [
        "# dropping ALL duplicate values\n",
        "df.drop_duplicates(subset =\"images\", keep = False, inplace = True)"
      ],
      "execution_count": 28,
      "outputs": []
    },
    {
      "cell_type": "code",
      "metadata": {
        "colab": {
          "base_uri": "https://localhost:8080/"
        },
        "id": "ju-a0TX8ZT5z",
        "outputId": "c26afa49-d6e3-46c7-a1cd-18473d6f621d"
      },
      "source": [
        "df.to_csv('imgs.csv')"
      ],
      "execution_count": 29,
      "outputs": [
        {
          "output_type": "execute_result",
          "data": {
            "text/plain": [
              "(1887, 1)"
            ]
          },
          "metadata": {
            "tags": []
          },
          "execution_count": 29
        }
      ]
    },
    {
      "cell_type": "code",
      "metadata": {
        "id": "gVNU1x__lsdw"
      },
      "source": [
        "filtered = df['images'].values.tolist()"
      ],
      "execution_count": 54,
      "outputs": []
    },
    {
      "cell_type": "code",
      "metadata": {
        "id": "QVn5DRv3Uu61"
      },
      "source": [
        "broken_images = []"
      ],
      "execution_count": 30,
      "outputs": []
    },
    {
      "cell_type": "code",
      "metadata": {
        "colab": {
          "base_uri": "https://localhost:8080/"
        },
        "id": "nJIz3YMdZgzH",
        "outputId": "053d39b3-58cb-426e-cf77-1baac99d1cbc"
      },
      "source": [
        "cd /content/drive/MyDrive/Data/dowloads"
      ],
      "execution_count": 41,
      "outputs": [
        {
          "output_type": "stream",
          "text": [
            "/content/drive/.shortcut-targets-by-id/1cvx03MF6sl6kQ1ZVtu4SLyCyNCfsSnxC/Data/dowloads\n"
          ],
          "name": "stdout"
        }
      ]
    },
    {
      "cell_type": "code",
      "metadata": {
        "colab": {
          "base_uri": "https://localhost:8080/"
        },
        "id": "LM5j_sTAmBrO",
        "outputId": "16c66365-3471-4775-8c5d-8b082cb43206"
      },
      "source": [
        "len(filtered)"
      ],
      "execution_count": 55,
      "outputs": [
        {
          "output_type": "execute_result",
          "data": {
            "text/plain": [
              "1887"
            ]
          },
          "metadata": {
            "tags": []
          },
          "execution_count": 55
        }
      ]
    },
    {
      "cell_type": "code",
      "metadata": {
        "id": "P1V6kW-ATu4U"
      },
      "source": [
        "for img in filtered:\n",
        "    # We can split the file based upon / and extract the last split within the python list below:\n",
        "    file_name = img.split('/')[-1]\n",
        "    print(f\"This is the file name: {file_name}\")\n",
        "    # Now let's send a request to the image URL:\n",
        "    r = requests.get(img, stream=True)\n",
        "    # We can check that the status code is 200 before doing anything else:\n",
        "    if r.status_code == 200:\n",
        "        # This command below will allow us to write the data to a file as binary:\n",
        "        with open(file_name, 'wb') as f:\n",
        "            for chunk in r:\n",
        "                f.write(chunk)\n",
        "    else:\n",
        "        # We will write all of the images back to the broken_images list:\n",
        "        broken_images.append(img)\n"
      ],
      "execution_count": null,
      "outputs": []
    },
    {
      "cell_type": "code",
      "metadata": {
        "colab": {
          "base_uri": "https://localhost:8080/"
        },
        "id": "rIxT2CC8U2Aj",
        "outputId": "cbaa231f-b5a3-41cf-a3b7-1ee59c7887d6"
      },
      "source": [
        "import os\n",
        "path, dirs, files = next(os.walk(\"/content/drive/MyDrive/Data/dowloads\"))\n",
        "file_count = len(files)\n",
        "\n",
        "#for file in files:\n",
        "#  os.remove(file)\n",
        "\n",
        "file_count"
      ],
      "execution_count": 58,
      "outputs": [
        {
          "output_type": "execute_result",
          "data": {
            "text/plain": [
              "1878"
            ]
          },
          "metadata": {
            "tags": []
          },
          "execution_count": 58
        }
      ]
    },
    {
      "cell_type": "code",
      "metadata": {
        "id": "srYrkTESUzH9"
      },
      "source": [
        "# Pythono3 code to rename multiple \n",
        "# files in a directory or folder\n",
        "  \n",
        "# importing os module\n",
        "import os\n",
        "  \n",
        "# Function to rename multiple files\n",
        "def main():\n",
        "    path = '/content/drive/MyDrive/Data/dowloads/'\n",
        "    t = 600;\n",
        "    for count, filename in enumerate(os.listdir(path)):\n",
        "      if t+1<10:\n",
        "          dst =\"image00000\" + str(t+1) + \".jpg\"\n",
        "      elif t+1<100:\n",
        "          dst =\"image0000\" + str(t+1) + \".jpg\"\n",
        "      elif t+1<1000:\n",
        "          dst =\"image000\" + str(t+1) + \".jpg\"\n",
        "      elif t+1<10000:\n",
        "          dst =\"image00\" + str(t+1) + \".jpg\"\n",
        "      elif t+1<100000:\n",
        "          dst =\"image0\" + str(t+1) + \".jpg\"\n",
        "      else:\n",
        "          dst =\"image\" + str(t+1) + \".jpg\"\n",
        "      src = path + filename\n",
        "      dst =path+ dst\n",
        "      # rename() function will\n",
        "      # rename all the files\n",
        "      os.rename(src, dst)\n",
        "      t = t + 1\n",
        "  \n",
        "# Driver Code\n",
        "if __name__ == '__main__':\n",
        "      \n",
        "    # Calling main() function\n",
        "    main()"
      ],
      "execution_count": 61,
      "outputs": []
    },
    {
      "cell_type": "code",
      "metadata": {
        "id": "mlChQww-vj6t"
      },
      "source": [
        ""
      ],
      "execution_count": null,
      "outputs": []
    }
  ]
}