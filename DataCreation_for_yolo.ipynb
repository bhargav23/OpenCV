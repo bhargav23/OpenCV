{
  "nbformat": 4,
  "nbformat_minor": 0,
  "metadata": {
    "colab": {
      "name": "YoloV5_PyTorch.ipynb",
      "provenance": [],
      "authorship_tag": "ABX9TyMObeTX4F3QzKJoVDc+avg2",
      "include_colab_link": true
    },
    "kernelspec": {
      "name": "python3",
      "display_name": "Python 3"
    },
    "language_info": {
      "name": "python"
    }
  },
  "cells": [
    {
      "cell_type": "markdown",
      "metadata": {
        "id": "view-in-github",
        "colab_type": "text"
      },
      "source": [
        "<a href=\"https://colab.research.google.com/github/bhargav23/OpenCV/blob/main/DataCreation_for_yolo.ipynb\" target=\"_parent\"><img src=\"https://colab.research.google.com/assets/colab-badge.svg\" alt=\"Open In Colab\"/></a>"
      ]
    },
    {
      "cell_type": "code",
      "metadata": {
        "colab": {
          "base_uri": "https://localhost:8080/"
        },
        "id": "TSKVPDNleihl",
        "outputId": "c42f176d-e4ef-4e4d-cbc3-c1c3db3b91d1"
      },
      "source": [
        "from google.colab import drive\n",
        "drive.mount('/content/drive')"
      ],
      "execution_count": null,
      "outputs": [
        {
          "output_type": "stream",
          "text": [
            "Mounted at /content/drive\n"
          ],
          "name": "stdout"
        }
      ]
    },
    {
      "cell_type": "code",
      "metadata": {
        "id": "cLOwuTuBewqM"
      },
      "source": [
        "imgpath =  \"/content/drive/MyDrive/Data/AnnotationImages/\""
      ],
      "execution_count": null,
      "outputs": []
    },
    {
      "cell_type": "code",
      "metadata": {
        "colab": {
          "base_uri": "https://localhost:8080/"
        },
        "id": "GylQJkEFFXPL",
        "outputId": "18356c90-3ac9-41c0-f28d-78f3d6f0aff1"
      },
      "source": [
        "pip install tqdm"
      ],
      "execution_count": null,
      "outputs": [
        {
          "output_type": "stream",
          "text": [
            "Requirement already satisfied: tqdm in /usr/local/lib/python3.7/dist-packages (4.41.1)\n"
          ],
          "name": "stdout"
        }
      ]
    },
    {
      "cell_type": "code",
      "metadata": {
        "id": "TQMsLa-DFuuU"
      },
      "source": [
        "import pandas as pd \n",
        "import os \n",
        "from sklearn.model_selection import train_test_split\n",
        "from tqdm import tqdm\n"
      ],
      "execution_count": null,
      "outputs": []
    },
    {
      "cell_type": "code",
      "metadata": {
        "id": "TsGzvYAqDB0b"
      },
      "source": [
        "%mkdir annot"
      ],
      "execution_count": null,
      "outputs": []
    },
    {
      "cell_type": "code",
      "metadata": {
        "id": "VZvfggl4Di-D"
      },
      "source": [
        "%cp /content/drive/MyDrive/Data/YoloAnnotations/yoloannotations.zip ./annot"
      ],
      "execution_count": null,
      "outputs": []
    },
    {
      "cell_type": "code",
      "metadata": {
        "colab": {
          "base_uri": "https://localhost:8080/"
        },
        "id": "FUwxLCbjD6y0",
        "outputId": "5aa9c5bf-c42a-44c7-e499-2e317666c762"
      },
      "source": [
        "cd annot/"
      ],
      "execution_count": null,
      "outputs": [
        {
          "output_type": "stream",
          "text": [
            "/content/annot\n"
          ],
          "name": "stdout"
        }
      ]
    },
    {
      "cell_type": "code",
      "metadata": {
        "id": "3d0bMlmrCy7T"
      },
      "source": [
        "!unzip yoloannotations.zip "
      ],
      "execution_count": null,
      "outputs": []
    },
    {
      "cell_type": "code",
      "metadata": {
        "id": "DoHjlj9KEBx7"
      },
      "source": [
        "%rm yoloannotations.zip "
      ],
      "execution_count": null,
      "outputs": []
    },
    {
      "cell_type": "code",
      "metadata": {
        "colab": {
          "base_uri": "https://localhost:8080/",
          "height": 35
        },
        "id": "dVryB-0HGLF8",
        "outputId": "551a142e-9e7a-46c8-9166-5ed35e245255"
      },
      "source": [
        "pwd"
      ],
      "execution_count": null,
      "outputs": [
        {
          "output_type": "execute_result",
          "data": {
            "application/vnd.google.colaboratory.intrinsic+json": {
              "type": "string"
            },
            "text/plain": [
              "'/content/annot'"
            ]
          },
          "metadata": {
            "tags": []
          },
          "execution_count": 11
        }
      ]
    },
    {
      "cell_type": "code",
      "metadata": {
        "colab": {
          "base_uri": "https://localhost:8080/"
        },
        "id": "XYYZlAsyGNH0",
        "outputId": "25e94021-7d65-4f59-cb09-85a447a226b7"
      },
      "source": [
        "cd .."
      ],
      "execution_count": null,
      "outputs": [
        {
          "output_type": "stream",
          "text": [
            "/content\n"
          ],
          "name": "stdout"
        }
      ]
    },
    {
      "cell_type": "code",
      "metadata": {
        "id": "BGPmIozne30c"
      },
      "source": [
        "annotationpath = \"/content/annot/\""
      ],
      "execution_count": null,
      "outputs": []
    },
    {
      "cell_type": "code",
      "metadata": {
        "id": "I-SLbCHwPmge"
      },
      "source": [
        "os.mkdir('train')\n",
        "os.mkdir('test')"
      ],
      "execution_count": null,
      "outputs": []
    },
    {
      "cell_type": "code",
      "metadata": {
        "id": "dTbm75huAV-T"
      },
      "source": [
        "def split_img_label(data_train,data_test,folder_train,folder_test):\n",
        "    \n",
        "    #os.mkdir(folder_train)\n",
        "    #os.mkdir(folder_test)\n",
        "    \n",
        "    \n",
        "    train_ind=list(data_train.index)\n",
        "    test_ind=list(data_test.index)\n",
        "    \n",
        "    \n",
        "    # Train folder\n",
        "    for i in tqdm(range(len(train_ind))):\n",
        "        \n",
        "        os.system('cp '+data_train[train_ind[i]]+' ./'+ folder_train + '/'  +data_train[train_ind[i]].split('/')[6])\n",
        "        os.system('cp '+data_train[train_ind[i]].split('.jpg')[0]+'.txt'+'  ./'+ folder_train + '/'  +data_train[train_ind[i]].split('/')[6].split('.jpg')[0]+'.txt')\n",
        "    \n",
        "    # Test folder\n",
        "    for j in tqdm(range(len(test_ind))):\n",
        "        \n",
        "        os.system('cp '+data_test[test_ind[j]]+' ./'+ folder_test + '/'  +data_test[test_ind[j]].split('/')[6])\n",
        "        os.system('cp '+data_test[test_ind[j]].split('.jpg')[0]+'.txt'+'  ./'+ folder_test + '/'  +data_test[test_ind[j]].split('/')[6].split('.jpg')[0]+'.txt')\n"
      ],
      "execution_count": null,
      "outputs": []
    },
    {
      "cell_type": "code",
      "metadata": {
        "id": "GKgwDJHE-eS5"
      },
      "source": [
        "list_img=[img for img in os.listdir(imgpath) if img.endswith('.jpg')==True]\n",
        "list_txt=[img for img in os.listdir(annotationpath) if img.endswith('.txt')==True]"
      ],
      "execution_count": null,
      "outputs": []
    },
    {
      "cell_type": "code",
      "metadata": {
        "id": "jVSjvAQsIdak"
      },
      "source": [
        "path_img=[]\n",
        "\n",
        "for i in range (len(list_txt)):\n",
        "    c = list_txt[i].split(\".\")[0]+'.jpg'\n",
        "    path_img.append(imgpath+c)"
      ],
      "execution_count": null,
      "outputs": []
    },
    {
      "cell_type": "code",
      "metadata": {
        "id": "3rcWPELBEWZ3"
      },
      "source": [
        "df=pd.DataFrame(path_img)"
      ],
      "execution_count": null,
      "outputs": []
    },
    {
      "cell_type": "code",
      "metadata": {
        "id": "vcgKa3i_JRg_"
      },
      "source": [
        "# split \n",
        "data_train, data_test, labels_train, labels_test = train_test_split(df[0], df.index, test_size=0.20, random_state=42)\n",
        "\n",
        "folder_train_name ='train'\n",
        "folder_test_name = 'test'"
      ],
      "execution_count": null,
      "outputs": []
    },
    {
      "cell_type": "code",
      "metadata": {
        "colab": {
          "base_uri": "https://localhost:8080/"
        },
        "id": "6hbqUWncHcQY",
        "outputId": "6333df3c-67a4-43ee-9dd4-c012e85dcc6d"
      },
      "source": [
        "# Function split \n",
        "split_img_label(data_train,data_test,folder_train_name,folder_test_name)"
      ],
      "execution_count": null,
      "outputs": [
        {
          "output_type": "stream",
          "text": [
            "100%|██████████| 388/388 [01:09<00:00,  5.59it/s]\n",
            "100%|██████████| 97/97 [00:16<00:00,  5.81it/s]\n"
          ],
          "name": "stderr"
        }
      ]
    },
    {
      "cell_type": "code",
      "metadata": {
        "id": "nfneKuZ8VQcc"
      },
      "source": [
        ""
      ],
      "execution_count": null,
      "outputs": []
    }
  ]
}