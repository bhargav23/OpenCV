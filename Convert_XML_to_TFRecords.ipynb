{
  "nbformat": 4,
  "nbformat_minor": 0,
  "metadata": {
    "colab": {
      "name": "Convert_XML_to_TFRecords.ipynb",
      "provenance": [],
      "collapsed_sections": [],
      "authorship_tag": "ABX9TyNLtQpujrgiudWd8wDP01TV",
      "include_colab_link": true
    },
    "kernelspec": {
      "name": "python3",
      "display_name": "Python 3"
    },
    "language_info": {
      "name": "python"
    },
    "accelerator": "GPU"
  },
  "cells": [
    {
      "cell_type": "markdown",
      "metadata": {
        "id": "view-in-github",
        "colab_type": "text"
      },
      "source": [
        "<a href=\"https://colab.research.google.com/github/bhargav23/OpenCV/blob/main/Convert_XML_to_TFRecords.ipynb\" target=\"_parent\"><img src=\"https://colab.research.google.com/assets/colab-badge.svg\" alt=\"Open In Colab\"/></a>"
      ]
    },
    {
      "cell_type": "code",
      "metadata": {
        "id": "9qoTzv0azQrj"
      },
      "source": [
        "!pip install --ignore-installed --upgrade tensorflow==2.5.0"
      ],
      "execution_count": null,
      "outputs": []
    },
    {
      "cell_type": "code",
      "metadata": {
        "colab": {
          "base_uri": "https://localhost:8080/"
        },
        "id": "6Z-gDi1__Y4W",
        "outputId": "10956d33-29ac-4eff-d7ac-0b68793d3492"
      },
      "source": [
        "!git clone https://github.com/tensorflow/models.git"
      ],
      "execution_count": null,
      "outputs": [
        {
          "output_type": "stream",
          "text": [
            "Cloning into 'models'...\n",
            "remote: Enumerating objects: 59568, done.\u001b[K\n",
            "remote: Counting objects: 100% (1048/1048), done.\u001b[K\n",
            "remote: Compressing objects: 100% (398/398), done.\u001b[K\n",
            "remote: Total 59568 (delta 709), reused 943 (delta 632), pack-reused 58520\u001b[K\n",
            "Receiving objects: 100% (59568/59568), 573.73 MiB | 32.20 MiB/s, done.\n",
            "Resolving deltas: 100% (41335/41335), done.\n"
          ],
          "name": "stdout"
        }
      ]
    },
    {
      "cell_type": "code",
      "metadata": {
        "colab": {
          "base_uri": "https://localhost:8080/"
        },
        "id": "3LEcmmZG_oGY",
        "outputId": "a618d8b5-ff88-4481-b702-0603e71c7669"
      },
      "source": [
        "cd models/research"
      ],
      "execution_count": null,
      "outputs": [
        {
          "output_type": "stream",
          "text": [
            "/content/models/research\n"
          ],
          "name": "stdout"
        }
      ]
    },
    {
      "cell_type": "code",
      "metadata": {
        "id": "Kaja4n-u_o5l"
      },
      "source": [
        "# Compile protos.\n",
        "!protoc object_detection/protos/*.proto --python_out=.\n",
        "# Install TensorFlow Object Detection API.\n",
        "!cp object_detection/packages/tf2/setup.py .\n",
        "!python -m pip install ."
      ],
      "execution_count": null,
      "outputs": []
    },
    {
      "cell_type": "code",
      "metadata": {
        "id": "EV2GRdNYCSlc"
      },
      "source": [
        "import matplotlib\n",
        "import matplotlib.pyplot as plt\n",
        "\n",
        "import os\n",
        "import random\n",
        "import io\n",
        "import imageio\n",
        "import glob\n",
        "import scipy.misc\n",
        "import numpy as np\n",
        "from six import BytesIO\n",
        "from PIL import Image, ImageDraw, ImageFont\n",
        "from IPython.display import display, Javascript\n",
        "from IPython.display import Image as IPyImage\n",
        "\n",
        "import tensorflow as tf\n",
        "\n",
        "from object_detection.utils import label_map_util\n",
        "from object_detection.utils import config_util\n",
        "from object_detection.utils import visualization_utils as viz_utils\n",
        "from object_detection.utils import colab_utils\n",
        "from object_detection.builders import model_builder\n",
        "\n",
        "%matplotlib inline"
      ],
      "execution_count": null,
      "outputs": []
    },
    {
      "cell_type": "code",
      "metadata": {
        "id": "XHR4kA7HCT-s"
      },
      "source": [
        "!python /content/models/research/object_detection/builders/model_builder_tf2_test.py"
      ],
      "execution_count": null,
      "outputs": []
    },
    {
      "cell_type": "code",
      "metadata": {
        "colab": {
          "base_uri": "https://localhost:8080/"
        },
        "id": "b_Q_VJz2HJvL",
        "outputId": "99aa08d8-3570-4623-c0e7-be9d013bc71e"
      },
      "source": [
        "from google.colab import drive\n",
        "drive.mount('/content/drive')"
      ],
      "execution_count": null,
      "outputs": [
        {
          "output_type": "stream",
          "text": [
            "Mounted at /content/drive\n"
          ],
          "name": "stdout"
        }
      ]
    },
    {
      "cell_type": "code",
      "metadata": {
        "colab": {
          "base_uri": "https://localhost:8080/",
          "height": 35
        },
        "id": "KCD0o56CD_iw",
        "outputId": "964c3ce9-6b2f-4306-8ea3-95b2163de784"
      },
      "source": [
        "pwd"
      ],
      "execution_count": null,
      "outputs": [
        {
          "output_type": "execute_result",
          "data": {
            "application/vnd.google.colaboratory.intrinsic+json": {
              "type": "string"
            },
            "text/plain": [
              "'/content/models/research'"
            ]
          },
          "metadata": {
            "tags": []
          },
          "execution_count": 10
        }
      ]
    },
    {
      "cell_type": "code",
      "metadata": {
        "colab": {
          "base_uri": "https://localhost:8080/"
        },
        "id": "5XbIByq3EFe6",
        "outputId": "6a58a42e-0133-4a2e-9b90-af29f591bf3f"
      },
      "source": [
        "cd /content/"
      ],
      "execution_count": null,
      "outputs": [
        {
          "output_type": "stream",
          "text": [
            "/content\n"
          ],
          "name": "stdout"
        }
      ]
    },
    {
      "cell_type": "code",
      "metadata": {
        "id": "xW8XioQnHqpc"
      },
      "source": [
        "%mkdir images"
      ],
      "execution_count": null,
      "outputs": []
    },
    {
      "cell_type": "code",
      "metadata": {
        "colab": {
          "base_uri": "https://localhost:8080/"
        },
        "id": "GnfTPTuF6ljB",
        "outputId": "adc067ca-c2cd-413b-f147-08de9ec36221"
      },
      "source": [
        "cp /content/drive/MyDrive/Data/AnnotationImages/Vishnu/* /content/images/"
      ],
      "execution_count": null,
      "outputs": [
        {
          "output_type": "stream",
          "text": [
            "cp: -r not specified; omitting directory '/content/drive/MyDrive/Data/AnnotationImages/Vishnu/images'\n"
          ],
          "name": "stdout"
        }
      ]
    },
    {
      "cell_type": "code",
      "metadata": {
        "id": "bArZkgzJ8br1"
      },
      "source": [
        "cp /content/drive/MyDrive/Data/annotationsa028/sriram/xml/vishnubus_1_to_94.zip /content/images/"
      ],
      "execution_count": null,
      "outputs": []
    },
    {
      "cell_type": "code",
      "metadata": {
        "colab": {
          "base_uri": "https://localhost:8080/"
        },
        "id": "4Jbg7BU0IfVi",
        "outputId": "a7080ff1-74c8-4a72-d03a-72ba366931a1"
      },
      "source": [
        "cd /content/images/"
      ],
      "execution_count": null,
      "outputs": [
        {
          "output_type": "stream",
          "text": [
            "/content/images\n"
          ],
          "name": "stdout"
        }
      ]
    },
    {
      "cell_type": "code",
      "metadata": {
        "id": "VJQ6Cxj20FfM"
      },
      "source": [
        "!unzip vishnubus_1_to_94.zip "
      ],
      "execution_count": null,
      "outputs": []
    },
    {
      "cell_type": "code",
      "metadata": {
        "id": "sBYhd8vjI5yk"
      },
      "source": [
        "%rm vishnubus_1_to_94.zip "
      ],
      "execution_count": null,
      "outputs": []
    },
    {
      "cell_type": "code",
      "metadata": {
        "colab": {
          "base_uri": "https://localhost:8080/"
        },
        "id": "pNfmE2z01QDq",
        "outputId": "17263af4-83f9-4a41-f6e4-1105d93a8831"
      },
      "source": [
        "!python /content/drive/MyDrive/Data/temp/partition_dataset.py  -x -i /content/images  -r 0.1"
      ],
      "execution_count": null,
      "outputs": [
        {
          "output_type": "stream",
          "text": [
            "/content/drive/MyDrive/Data/temp/partition_dataset.py:35: DeprecationWarning: Flags not at the start of the expression '([a-zA-Z0-9\\\\s_\\\\\\\\.\\\\-\\\\' (truncated)\n",
            "  if re.search(r'([a-zA-Z0-9\\s_\\\\.\\-\\(\\):])+(?i)(.jpg|.jpeg|.png)$', f)]\n"
          ],
          "name": "stdout"
        }
      ]
    },
    {
      "cell_type": "code",
      "metadata": {
        "id": "4_IMtLmzLp5D"
      },
      "source": [
        "# /content/drive/MyDrive/Data/temp/lable_map.pbtxt\n",
        "# /content/drive/MyDrive/Data/temp/generate_tfrecord.py"
      ],
      "execution_count": null,
      "outputs": []
    },
    {
      "cell_type": "code",
      "metadata": {
        "colab": {
          "base_uri": "https://localhost:8080/"
        },
        "id": "Zvtl1stpsX_G",
        "outputId": "6d69c409-5445-4d46-dd0b-6662ef5f2c31"
      },
      "source": [
        "!python /content/generate_tfrecord.py --csv_input=/content/images/train_labels.csv --image_dir=/content/images/train --output_path=train.record"
      ],
      "execution_count": null,
      "outputs": [
        {
          "output_type": "stream",
          "text": [
            "usage: generate_tfrecord.py [-h] [-x XML_DIR] [-l LABELS_PATH]\n",
            "                            [-o OUTPUT_PATH] [-i IMAGE_DIR] [-c CSV_PATH]\n",
            "generate_tfrecord.py: error: unrecognized arguments: --csv_input=/content/images/train_labels.csv\n"
          ],
          "name": "stdout"
        }
      ]
    },
    {
      "cell_type": "code",
      "metadata": {
        "colab": {
          "base_uri": "https://localhost:8080/"
        },
        "id": "bRilCFoMJ17d",
        "outputId": "73682a73-d232-495a-825b-6bd07634d7cd"
      },
      "source": [
        "# Create train data:\n",
        "!python /content/drive/MyDrive/Data/temp/generate_tfrecord.py -x /content/images/train -l /content/drive/MyDrive/Data/temp/lable_map.pbtxt -o /content/images/train.record"
      ],
      "execution_count": null,
      "outputs": [
        {
          "output_type": "stream",
          "text": [
            "Successfully created the TFRecord file: /content/images/train.record\n"
          ],
          "name": "stdout"
        }
      ]
    },
    {
      "cell_type": "code",
      "metadata": {
        "colab": {
          "base_uri": "https://localhost:8080/"
        },
        "id": "Y0JmFs3NJ4xJ",
        "outputId": "7708688c-b2c9-46d6-ad95-73e00da5c4bd"
      },
      "source": [
        "# Create test data:\n",
        "!python /content/drive/MyDrive/Data/temp/generate_tfrecord.py -x /content/images/test -l /content/drive/MyDrive/Data/temp/lable_map.pbtxt -o /content/images/test.record"
      ],
      "execution_count": null,
      "outputs": [
        {
          "output_type": "stream",
          "text": [
            "Successfully created the TFRecord file: /content/images/test.record\n"
          ],
          "name": "stdout"
        }
      ]
    },
    {
      "cell_type": "code",
      "metadata": {
        "id": "vK0H5LbGHDu1"
      },
      "source": [
        "%cp /content/images/test.record  /content/drive/MyDrive/Data/temp/\n",
        "%cp /content/images/train.record /content/drive/MyDrive/Data/temp/"
      ],
      "execution_count": null,
      "outputs": []
    },
    {
      "cell_type": "code",
      "metadata": {
        "id": "7-D6ucsWHJ6p"
      },
      "source": [
        ""
      ],
      "execution_count": null,
      "outputs": []
    }
  ]
}