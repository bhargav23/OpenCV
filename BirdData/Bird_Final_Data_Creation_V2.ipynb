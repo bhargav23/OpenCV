{
  "nbformat": 4,
  "nbformat_minor": 0,
  "metadata": {
    "colab": {
      "name": "Bird Final Data Creation.ipynb",
      "provenance": [],
      "collapsed_sections": [],
      "machine_shape": "hm",
      "include_colab_link": true
    },
    "kernelspec": {
      "display_name": "Python 3",
      "language": "python",
      "name": "python3"
    },
    "language_info": {
      "codemirror_mode": {
        "name": "ipython",
        "version": 3
      },
      "file_extension": ".py",
      "mimetype": "text/x-python",
      "name": "python",
      "nbconvert_exporter": "python",
      "pygments_lexer": "ipython3",
      "version": "3.6.7"
    }
  },
  "cells": [
    {
      "cell_type": "markdown",
      "metadata": {
        "id": "view-in-github",
        "colab_type": "text"
      },
      "source": [
        "<a href=\"https://colab.research.google.com/github/bhargav23/OpenCV/blob/main/BirdData/Bird_Final_Data_Creation_V2.ipynb\" target=\"_parent\"><img src=\"https://colab.research.google.com/assets/colab-badge.svg\" alt=\"Open In Colab\"/></a>"
      ]
    },
    {
      "cell_type": "code",
      "metadata": {
        "id": "fxwDtT5d5tfq",
        "colab": {
          "base_uri": "https://localhost:8080/"
        },
        "outputId": "3cafb115-6c66-45bf-fa45-0093da511113"
      },
      "source": [
        "from google.colab import drive\n",
        "drive.mount('/content/drive')"
      ],
      "execution_count": 1,
      "outputs": [
        {
          "output_type": "stream",
          "text": [
            "Mounted at /content/drive\n"
          ],
          "name": "stdout"
        }
      ]
    },
    {
      "cell_type": "markdown",
      "metadata": {
        "id": "JhbSCmP0tDCP"
      },
      "source": [
        "# Data Generation"
      ]
    },
    {
      "cell_type": "code",
      "metadata": {
        "id": "iaOVDNgUfjO2"
      },
      "source": [
        "# find a random location to put the cow image\n",
        "from random import seed\n",
        "import random\n",
        "# seed random number generator"
      ],
      "execution_count": 2,
      "outputs": []
    },
    {
      "cell_type": "code",
      "metadata": {
        "id": "mC_g7isktn4v"
      },
      "source": [
        "import numpy as np\n",
        "import pandas as pd\n",
        "from PIL import Image"
      ],
      "execution_count": 3,
      "outputs": []
    },
    {
      "cell_type": "markdown",
      "metadata": {
        "id": "_I8VpDEStdpD"
      },
      "source": [
        "## Helper methods\n",
        "\n",
        "### random crop and flip\n"
      ]
    },
    {
      "cell_type": "code",
      "metadata": {
        "id": "k6H5h14eimQu"
      },
      "source": [
        "import math\n",
        "import os\n",
        "from tqdm.notebook import tqdm\n",
        " \n",
        "# flip image horizontally with a probability of 0.5\n",
        "def randomflip(im):\n",
        "  r = random.random()\n",
        "  if r>0.5:\n",
        "    return im.transpose(Image.FLIP_LEFT_RIGHT), True\n",
        "  return im, False\n",
        " \n",
        "# crops image and its segment to given size and possibly flips is horizontally\n",
        "def random_crop_n_flip(img, newsize=(250, 250)):\n",
        "  img, f = randomflip(img)\n",
        "  w, h = img.size\n",
        " \n",
        "  if h>w:\n",
        "    w, h = (newsize[0], int(newsize[0]*h/w))\n",
        "    img = img.resize((w,h))\n",
        "    left, right = 0, w\n",
        "    bottom, top = h, h-w\n",
        "  else:\n",
        "    w, h = (int(newsize[1]*w/h), newsize[1])\n",
        "    img = img.resize((w,h))\n",
        "    left = int(random.random()*(w-h))\n",
        "    right = left+h\n",
        "    bottom, top = h, 0\n",
        " \n",
        "  cropped = img.crop((left, top, right, bottom))  # size: 45, 45\n",
        "  \n",
        "  return cropped"
      ],
      "execution_count": 4,
      "outputs": []
    },
    {
      "cell_type": "markdown",
      "metadata": {
        "id": "dGCEFP1VtpHV"
      },
      "source": [
        "### Location selection to place foreground object\n",
        "We want to place foreground object on ground plane randomly. Below functions will first extract the potential ground pixels and then pick one at random as center of the foreground object"
      ]
    },
    {
      "cell_type": "code",
      "metadata": {
        "id": "5SNm1mw_tpSu"
      },
      "source": [
        "def show_binary_image(img):\n",
        "  display(Image.fromarray((img*255).astype(np.uint8), mode='L'))\n",
        " \n",
        "def pick_random_center(w,h):\n",
        "  py = int(random.random()*h)\n",
        "  px = int(random.random()*w)\n",
        "  return px, py"
      ],
      "execution_count": 5,
      "outputs": []
    },
    {
      "cell_type": "markdown",
      "metadata": {
        "id": "mwX-CPg9t-Zs"
      },
      "source": [
        "### Scale selection\n",
        "Next we want to determine how big the foreground should be. We are picing a random alue between 0.3 and 0.6. A scale indicates what proportion of area of background image should the foreground image span."
      ]
    },
    {
      "cell_type": "code",
      "metadata": {
        "id": "akqa0DMgt-h2"
      },
      "source": [
        "def scaled_foreground(fg, newsize, py):\n",
        "  fh, fw = fg.height, fg.width\n",
        "  # get area wrt bg size\n",
        "  r = min(random.random()+0.3, 0.2)\n",
        "  csize = (newsize[0]*r, newsize[1]*r)\n",
        "  ar = csize[0]*csize[1]\n",
        " \n",
        "  # resize based on area and aspect\n",
        "  dw = int(math.sqrt(ar)*fw/fh)\n",
        "  dh = int(dw*(fh/fw))\n",
        "  fg = fg.resize((dw, dh))\n",
        "  # get mask of resized\n",
        "  #mask = np.array(fg)[:, :, 3]\n",
        "  #mask[mask<200]=0\n",
        "  #mask = Image.fromarray(mask, mode='L')\n",
        " \n",
        "  return fg\n",
        " \n",
        "def place(bg, fg, px, py):\n",
        "  fh, fw = fg.height, fg.width\n",
        "  py -= fh//2\n",
        "  px -= fw//2\n",
        "  bg.paste(fg, (px, py))\n",
        " \n",
        "  return bg"
      ],
      "execution_count": 6,
      "outputs": []
    },
    {
      "cell_type": "code",
      "metadata": {
        "id": "HxN74hvg3hsU"
      },
      "source": [
        "  global a\n",
        "  a = []"
      ],
      "execution_count": 7,
      "outputs": []
    },
    {
      "cell_type": "code",
      "metadata": {
        "id": "aprCgupmmWav"
      },
      "source": [
        "def ann(bg, fg, px, py):\n",
        "  fh, fw = fg.height, fg.width\n",
        "  py -= fh//2\n",
        "  px -= fw//2\n",
        "  bgh = bg.height//2\n",
        "  bgw = bg.width//2\n",
        "  w = fg.width//2\n",
        "  h = fg.height//2\n",
        "  x = px//2\n",
        "  y = py//2\n",
        "  if x<0:\n",
        "    w = w+x\n",
        "    x = 0\n",
        "  if y<0:\n",
        "    h=h+y\n",
        "    y = 0\n",
        "  if (y+h)>bgh:\n",
        "    h = bgh-y\n",
        "  if (x+w)>bgw:\n",
        "    w = bgw-x\n",
        "  #fmask = Image.new('1', bg.size)\n",
        "  #fmask.paste(mask, (px, py))\n",
        " \n",
        " \n",
        "  return [x,y,w,h,bgw,bgh]"
      ],
      "execution_count": 8,
      "outputs": []
    },
    {
      "cell_type": "markdown",
      "metadata": {
        "id": "XTA6aWNmoScu"
      },
      "source": [
        "## Generation of flipped foreground images\n",
        "Caution : Run only once"
      ]
    },
    {
      "cell_type": "code",
      "metadata": {
        "id": "prHw0YRYhCgW"
      },
      "source": [
        "def flipforeground(fgpath, imgno):\n",
        "  fglist = list(filter(lambda x: x.endswith('png'), os.listdir(fgpath)))\n",
        "  print('Creating flipped foregrounds')\n",
        "  for i in range(len(fglist)):\n",
        "    fgimg = os.path.join(fgpath, fglist[i])\n",
        "    fgim = Image.open(fgimg)\n",
        "    fgout = fgim.transpose(Image.FLIP_LEFT_RIGHT)\n",
        "    fgout.save(os.path.join(fgpath, f\"image{imgno:0>3}.png\"))\n",
        "    imgno +=1\n",
        "\n",
        "#We have 100 foreground images. the flipped images numbers will start from 101\n",
        "#flipforeground('/content/drive/MyDrive/Data/BirdData/foreground', imgno=101)"
      ],
      "execution_count": 9,
      "outputs": []
    },
    {
      "cell_type": "markdown",
      "metadata": {
        "id": "EC1sBxqcStXN"
      },
      "source": [
        "# Pipeline\n",
        "1. We need to select BG image\n",
        "2. We need to select a FG image\n",
        "3. 448x448 image -> Depth -> 224x224.\n",
        "4. 4000 as a batch size, and we create 200, 448x448 images so a 200x448x448x3 size tensor\n",
        "5. we pass this to depth network and it return 200x224x224x1\n",
        "6. in a loop we resize our 200 448x448 images to 224x224 and save then in a zip folder\n",
        "7. at the same time we save the mask 224x224 and the depth.\n",
        "we will have 2000 batches, 400000 images.\n",
        "8 while we save the depth images we also want to save .npy numpy array for that respective image because that is what will be our training data.\n",
        "\n",
        "if 1 batch takes 10 sec 20000 sec = 6 hours\n"
      ]
    },
    {
      "cell_type": "code",
      "metadata": {
        "id": "aWq6Q39mzJCD"
      },
      "source": [
        "#path for background and foreground images\n",
        "bgpath = os.path.join('/content/drive/MyDrive/Data/BirdData/', \"bgimages\")\n",
        "fgpath = os.path.join('/content/drive/MyDrive/Data/BirdData/', \"foreground\")\n",
        "#list of filenames of background images and foreground\n",
        "bgimagelist = list(filter(lambda x: x.endswith('jpg'), os.listdir(bgpath)))\n",
        "fgimagelist = list(filter(lambda x: x.endswith('png'), os.listdir(fgpath)))"
      ],
      "execution_count": 10,
      "outputs": []
    },
    {
      "cell_type": "markdown",
      "metadata": {
        "id": "6sy_7wIIN0Kx"
      },
      "source": [
        ""
      ]
    },
    {
      "cell_type": "code",
      "metadata": {
        "id": "Qpj__eCPBlkD"
      },
      "source": [
        "# pipeline\n",
        "# for a batch size of 2000 \n",
        "# len(bg) = 1\n",
        "# len(fg) = 100\n",
        "# multiplier = 20\n",
        "# this method saves fgonbg, mask, depth images on to their respective folders of the zipfolder (batch - 2000)\n",
        "# This method need to be called twice for every bg...(ater testing for several batch sizes)\n",
        "# original background images are 448X448, we are resizing fgonbg and mask to 224X224\n",
        "# passing 448$448 to depth prediction and getting 224X224.\n",
        "# All 1200 K images are of size 224 X 224\n",
        " \n",
        "def run_one_batch(inpath, bg, fglist, zipfolder, multiplier=20, imgno=0):\n",
        "  loaded_images =[]\n",
        "  imagemeta = []\n",
        " \n",
        " \n",
        "  bgpath = os.path.join(inpath, \"bgimages\")\n",
        "  fgpath = os.path.join(inpath, \"foreground\")\n",
        " \n",
        "  bgimg = os.path.join(bgpath, bg)\n",
        "  original_im = Image.open(bgimg)\n",
        "  w, h = original_im.width, original_im.height\n",
        " \n",
        "  for i in tqdm(range(len(fglist))):\n",
        "    fgimg = os.path.join(fgpath, fglist[i])\n",
        "    fg = Image.open(fgimg)\n",
        " \n",
        "    for _ in range(multiplier):\n",
        "      cropped = random_crop_n_flip(original_im, (448,448))\n",
        "      px, py = pick_random_center(448, 448)\n",
        "      fg= scaled_foreground(fg, (448,448), py)\n",
        "      finalimg = place(cropped, fg, px, py)\n",
        "      ta = ann(cropped, fg, px, py)\n",
        "      ta.insert(len(ta),f'fgbg{imgno:0>6d}.jpg');\n",
        "      a.append(ta)\n",
        "\n",
        "      imagemeta.append((imgno, finalimg.width, finalimg.height))\n",
        "      x = np.clip(np.asarray(finalimg, dtype=float) / 255, 0, 1)\n",
        " \n",
        "      finalimg.resize((224, 224)).save(\"bgtemp.jpg\", optimize = True, quality=60)\n",
        "      \n",
        "      \n",
        "      loaded_images.append(x)\n",
        "      \n",
        "      zipfolder.write('bgtemp.jpg', f'output/images/fgbg{imgno:0>6d}.jpg')\n",
        " \n",
        "      imgno += 1\n",
        "  \n",
        "  return imgno\n",
        " \n",
        " \n",
        "    \n",
        "   # multiplex\n",
        "   # create a numpy array\n",
        "   # stack all 448x448 bg-fg images in that array, along size create 224x224 masks\n",
        "   # pass that to depth network to get 224x224 depth numpy values\n",
        "   # now resize 448x448 to 224x224 images and save in zipfolder/images\n",
        "   # save masks in the masks zipfolder/folder\n",
        "   # save depth images as well as .npy values in depths zipfolder/folder\n",
        " \n",
        "# time for one batch, and see it should be ~5 sec but < 10sec"
      ],
      "execution_count": 11,
      "outputs": []
    },
    {
      "cell_type": "markdown",
      "metadata": {
        "id": "pcKakA-w9EKT"
      },
      "source": [
        "## Data Generation\n",
        "1. created a zipfile with the name fgbganddepth2.zip and opened it in append mode\n",
        "2. generated and saved fgbg, mask and dpeth for first 25 background images (total of 100 K of each type). File numbers are also started from 000001 to 100000\n",
        "3. saved the intermediated zip to drive\n",
        "4. Repeated the steps 2 and 3 for the rest 75 background images. which generated a total of 400 K images of each type."
      ]
    },
    {
      "cell_type": "code",
      "metadata": {
        "id": "KK0QJnDoTEvX"
      },
      "source": [
        "from zipfile import ZipFile\n",
        "out = ZipFile('fgbg.zip', mode='a')"
      ],
      "execution_count": 12,
      "outputs": []
    },
    {
      "cell_type": "code",
      "metadata": {
        "id": "u50I_0HYsHHx"
      },
      "source": [
        "#overlaying fg on bg and generating masks for 25 background images\n",
        "imgno = 0\n",
        "for x in range(1):\n",
        "  print(\"background image - \", (x+1))\n",
        "  imgno = run_one_batch('/content/drive/MyDrive/Data/BirdData/', bgimagelist[x], fgimagelist[:100], zipfolder=out, multiplier=2, imgno=imgno)\n",
        "  imgno = run_one_batch('/content/drive/MyDrive/Data/BirdData/', bgimagelist[x], fgimagelist[100:], zipfolder=out, multiplier=2, imgno=imgno)\n",
        "\n",
        "print(\"images created so far: \", imgno)"
      ],
      "execution_count": null,
      "outputs": []
    },
    {
      "cell_type": "code",
      "metadata": {
        "id": "2NJI5FCebm8z"
      },
      "source": [
        "path, dirs, files = next(os.walk(\"/content/drive/MyDrive/Data/BirdData/Temp\"))\n",
        "file_count = len(files)"
      ],
      "execution_count": 20,
      "outputs": []
    },
    {
      "cell_type": "code",
      "metadata": {
        "colab": {
          "base_uri": "https://localhost:8080/"
        },
        "id": "mIIFz0MVbny_",
        "outputId": "ecea84ed-67fc-4da4-c861-6f4f9f76d6ad"
      },
      "source": [
        "file_count"
      ],
      "execution_count": 21,
      "outputs": [
        {
          "output_type": "execute_result",
          "data": {
            "text/plain": [
              "101"
            ]
          },
          "metadata": {
            "tags": []
          },
          "execution_count": 21
        }
      ]
    },
    {
      "cell_type": "code",
      "metadata": {
        "id": "eDQLLl7JDFMD"
      },
      "source": [
        "df = pd.DataFrame(a,columns=['x','y','width','height','bgh','bgw','imgno'])"
      ],
      "execution_count": null,
      "outputs": []
    },
    {
      "cell_type": "code",
      "metadata": {
        "id": "a_fOTF0wTk4Z"
      },
      "source": [
        "out.close()"
      ],
      "execution_count": null,
      "outputs": []
    },
    {
      "cell_type": "code",
      "metadata": {
        "id": "m7Y6k9SZLDHq"
      },
      "source": [
        "cp /content/fgbg.zip /content/drive/MyDrive/Data/BirdData/dataset"
      ],
      "execution_count": null,
      "outputs": []
    },
    {
      "cell_type": "code",
      "metadata": {
        "id": "chCtA2OidtvL"
      },
      "source": [
        "def convert_annotation(annot):\n",
        "  box = np.array([annot['x'], annot['y'], annot['width'], annot['height']],\n",
        "                                                dtype=np.float32).ravel()\n",
        "  box[[0, 2]] /= annot['bgw']  # normalize x by width\n",
        "  box[[1, 3]] /= annot['bgh']  # normalize y by height\n",
        "  box = [box[0] + box[2] / 2, box[1] + box[3] / 2, box[2],\n",
        "          box[3]]  # xywh (left-top to center x-y)\n",
        "  return box"
      ],
      "execution_count": null,
      "outputs": []
    },
    {
      "cell_type": "code",
      "metadata": {
        "id": "X48lm0qBfPgT"
      },
      "source": [
        "df['bbox']=df.apply(convert_annotation,axis=1)"
      ],
      "execution_count": null,
      "outputs": []
    },
    {
      "cell_type": "code",
      "metadata": {
        "id": "c1C73TGffXuz"
      },
      "source": [
        "df.to_csv('ann.csv')"
      ],
      "execution_count": null,
      "outputs": []
    },
    {
      "cell_type": "code",
      "metadata": {
        "colab": {
          "base_uri": "https://localhost:8080/",
          "height": 204
        },
        "id": "k5c9F5wvtkgE",
        "outputId": "1e1bbd12-f7e3-41e7-d848-b9d500d0d7d7"
      },
      "source": [
        "df.head()"
      ],
      "execution_count": null,
      "outputs": [
        {
          "output_type": "execute_result",
          "data": {
            "text/html": [
              "<div>\n",
              "<style scoped>\n",
              "    .dataframe tbody tr th:only-of-type {\n",
              "        vertical-align: middle;\n",
              "    }\n",
              "\n",
              "    .dataframe tbody tr th {\n",
              "        vertical-align: top;\n",
              "    }\n",
              "\n",
              "    .dataframe thead th {\n",
              "        text-align: right;\n",
              "    }\n",
              "</style>\n",
              "<table border=\"1\" class=\"dataframe\">\n",
              "  <thead>\n",
              "    <tr style=\"text-align: right;\">\n",
              "      <th></th>\n",
              "      <th>x</th>\n",
              "      <th>y</th>\n",
              "      <th>width</th>\n",
              "      <th>height</th>\n",
              "      <th>bgh</th>\n",
              "      <th>bgw</th>\n",
              "      <th>imgno</th>\n",
              "      <th>bbox</th>\n",
              "    </tr>\n",
              "  </thead>\n",
              "  <tbody>\n",
              "    <tr>\n",
              "      <th>0</th>\n",
              "      <td>18</td>\n",
              "      <td>26</td>\n",
              "      <td>84</td>\n",
              "      <td>44</td>\n",
              "      <td>224</td>\n",
              "      <td>224</td>\n",
              "      <td>fgbg000000.jpg</td>\n",
              "      <td>[0.2678571417927742, 0.214285708963871, 0.375,...</td>\n",
              "    </tr>\n",
              "    <tr>\n",
              "      <th>1</th>\n",
              "      <td>46</td>\n",
              "      <td>106</td>\n",
              "      <td>85</td>\n",
              "      <td>44</td>\n",
              "      <td>224</td>\n",
              "      <td>224</td>\n",
              "      <td>fgbg000001.jpg</td>\n",
              "      <td>[0.3950892984867096, 0.571428582072258, 0.3794...</td>\n",
              "    </tr>\n",
              "    <tr>\n",
              "      <th>2</th>\n",
              "      <td>122</td>\n",
              "      <td>152</td>\n",
              "      <td>79</td>\n",
              "      <td>44</td>\n",
              "      <td>224</td>\n",
              "      <td>224</td>\n",
              "      <td>fgbg000002.jpg</td>\n",
              "      <td>[0.7209821492433548, 0.7767856866121292, 0.352...</td>\n",
              "    </tr>\n",
              "    <tr>\n",
              "      <th>3</th>\n",
              "      <td>37</td>\n",
              "      <td>0</td>\n",
              "      <td>80</td>\n",
              "      <td>31</td>\n",
              "      <td>224</td>\n",
              "      <td>224</td>\n",
              "      <td>fgbg000003.jpg</td>\n",
              "      <td>[0.34375, 0.0691964253783226, 0.35714287, 0.13...</td>\n",
              "    </tr>\n",
              "    <tr>\n",
              "      <th>4</th>\n",
              "      <td>13</td>\n",
              "      <td>74</td>\n",
              "      <td>64</td>\n",
              "      <td>44</td>\n",
              "      <td>224</td>\n",
              "      <td>224</td>\n",
              "      <td>fgbg000004.jpg</td>\n",
              "      <td>[0.2008928619325161, 0.428571417927742, 0.2857...</td>\n",
              "    </tr>\n",
              "  </tbody>\n",
              "</table>\n",
              "</div>"
            ],
            "text/plain": [
              "     x    y  ...           imgno                                               bbox\n",
              "0   18   26  ...  fgbg000000.jpg  [0.2678571417927742, 0.214285708963871, 0.375,...\n",
              "1   46  106  ...  fgbg000001.jpg  [0.3950892984867096, 0.571428582072258, 0.3794...\n",
              "2  122  152  ...  fgbg000002.jpg  [0.7209821492433548, 0.7767856866121292, 0.352...\n",
              "3   37    0  ...  fgbg000003.jpg  [0.34375, 0.0691964253783226, 0.35714287, 0.13...\n",
              "4   13   74  ...  fgbg000004.jpg  [0.2008928619325161, 0.428571417927742, 0.2857...\n",
              "\n",
              "[5 rows x 8 columns]"
            ]
          },
          "metadata": {
            "tags": []
          },
          "execution_count": 21
        }
      ]
    },
    {
      "cell_type": "code",
      "metadata": {
        "id": "Frgjs1vv3cR0"
      },
      "source": [
        "mkdir lables"
      ],
      "execution_count": null,
      "outputs": []
    },
    {
      "cell_type": "code",
      "metadata": {
        "colab": {
          "base_uri": "https://localhost:8080/"
        },
        "id": "1TETOXZI4nkk",
        "outputId": "803d7c5d-415e-4b60-faf4-31283a5772b3"
      },
      "source": [
        "cd lables/"
      ],
      "execution_count": null,
      "outputs": [
        {
          "output_type": "stream",
          "text": [
            "/content/lables\n"
          ],
          "name": "stdout"
        }
      ]
    },
    {
      "cell_type": "code",
      "metadata": {
        "id": "PMgidwp2J9RX"
      },
      "source": [
        "l = ZipFile('lables.zip', mode='a')"
      ],
      "execution_count": null,
      "outputs": []
    },
    {
      "cell_type": "code",
      "metadata": {
        "id": "wr_msub_tl5E"
      },
      "source": [
        "category_id = 0\n",
        "for index, row in df.iterrows():\n",
        "  with open(row['imgno'].split('.')[0] + '.txt', 'w') as file: \n",
        "    file.write('%g %.6f %.6f %.6f %.6f' % (category_id, row['bbox'][0],row['bbox'][1],row['bbox'][2],row['bbox'][3]))\n",
        "    l.write(file.name)"
      ],
      "execution_count": null,
      "outputs": []
    },
    {
      "cell_type": "code",
      "metadata": {
        "id": "skWWCkRvLfba"
      },
      "source": [
        "l.close()"
      ],
      "execution_count": null,
      "outputs": []
    },
    {
      "cell_type": "code",
      "metadata": {
        "id": "HmDJ-rSBMTv4"
      },
      "source": [
        "cp /content/lables/lables.zip /content/drive/MyDrive/Data/BirdData/dataset"
      ],
      "execution_count": null,
      "outputs": []
    }
  ]
}